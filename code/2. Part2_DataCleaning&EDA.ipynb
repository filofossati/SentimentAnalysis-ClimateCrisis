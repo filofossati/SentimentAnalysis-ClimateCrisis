{
 "cells": [
  {
   "cell_type": "markdown",
   "id": "c506a230",
   "metadata": {},
   "source": [
    "### Part 2 - Data Cleanig and Exploratory Data Analysis"
   ]
  },
  {
   "cell_type": "markdown",
   "id": "c64ec333",
   "metadata": {},
   "source": [
    "Within this jupyter notebook I am cleaning out the data that are coming from part 1. The goal is to get a better understanding of the differences of the posts that are published in both the sustainability and climate change subreddits. The resulting cleaned dataframe is saved and used in Part 3 and Part 4 where I am respectively creating a Logistic Regression and Random Forest model.  "
   ]
  },
  {
   "cell_type": "code",
   "execution_count": 506,
   "id": "cd652ab9",
   "metadata": {},
   "outputs": [],
   "source": [
    "import pandas as pd\n",
    "import numpy as np\n",
    "import matplotlib.pyplot as plt\n",
    "import seaborn as sns\n",
    "\n",
    "from bs4 import BeautifulSoup\n",
    "from sklearn.model_selection import train_test_split\n",
    "from sklearn.feature_extraction.text import CountVectorizer\n",
    "\n",
    "from nltk.sentiment.vader import SentimentIntensityAnalyzer\n"
   ]
  },
  {
   "cell_type": "markdown",
   "id": "f9483da4",
   "metadata": {},
   "source": [
    "### **Section 1** Data Cleaning"
   ]
  },
  {
   "cell_type": "code",
   "execution_count": 507,
   "id": "d253475c",
   "metadata": {},
   "outputs": [],
   "source": [
    "df = pd.read_csv('../data/reddits.csv')"
   ]
  },
  {
   "cell_type": "code",
   "execution_count": 508,
   "id": "9545133e",
   "metadata": {},
   "outputs": [
    {
     "data": {
      "text/html": [
       "<div>\n",
       "<style scoped>\n",
       "    .dataframe tbody tr th:only-of-type {\n",
       "        vertical-align: middle;\n",
       "    }\n",
       "\n",
       "    .dataframe tbody tr th {\n",
       "        vertical-align: top;\n",
       "    }\n",
       "\n",
       "    .dataframe thead th {\n",
       "        text-align: right;\n",
       "    }\n",
       "</style>\n",
       "<table border=\"1\" class=\"dataframe\">\n",
       "  <thead>\n",
       "    <tr style=\"text-align: right;\">\n",
       "      <th></th>\n",
       "      <th>Unnamed: 0</th>\n",
       "      <th>title</th>\n",
       "      <th>selftext</th>\n",
       "      <th>subreddit</th>\n",
       "      <th>created_utc</th>\n",
       "    </tr>\n",
       "  </thead>\n",
       "  <tbody>\n",
       "    <tr>\n",
       "      <th>0</th>\n",
       "      <td>0</td>\n",
       "      <td>Why does many big crop starting to have sustai...</td>\n",
       "      <td>Do they really suddenly 'care' about the envir...</td>\n",
       "      <td>sustainability</td>\n",
       "      <td>1645978811</td>\n",
       "    </tr>\n",
       "    <tr>\n",
       "      <th>1</th>\n",
       "      <td>1</td>\n",
       "      <td>Austin, Tx brand doing sustainability focused ...</td>\n",
       "      <td>NaN</td>\n",
       "      <td>sustainability</td>\n",
       "      <td>1645906866</td>\n",
       "    </tr>\n",
       "  </tbody>\n",
       "</table>\n",
       "</div>"
      ],
      "text/plain": [
       "   Unnamed: 0                                              title  \\\n",
       "0           0  Why does many big crop starting to have sustai...   \n",
       "1           1  Austin, Tx brand doing sustainability focused ...   \n",
       "\n",
       "                                            selftext       subreddit  \\\n",
       "0  Do they really suddenly 'care' about the envir...  sustainability   \n",
       "1                                                NaN  sustainability   \n",
       "\n",
       "   created_utc  \n",
       "0   1645978811  \n",
       "1   1645906866  "
      ]
     },
     "execution_count": 508,
     "metadata": {},
     "output_type": "execute_result"
    }
   ],
   "source": [
    "#checking first 5 rows\n",
    "df.head(2)"
   ]
  },
  {
   "cell_type": "code",
   "execution_count": 509,
   "id": "e119840a",
   "metadata": {},
   "outputs": [],
   "source": [
    "#dropping first column\n",
    "df.drop(columns='Unnamed: 0', inplace=True)"
   ]
  },
  {
   "cell_type": "code",
   "execution_count": 510,
   "id": "dd9771a5",
   "metadata": {},
   "outputs": [
    {
     "data": {
      "text/plain": [
       "(19817, 4)"
      ]
     },
     "execution_count": 510,
     "metadata": {},
     "output_type": "execute_result"
    }
   ],
   "source": [
    "#looking at the shape \n",
    "df.shape"
   ]
  },
  {
   "cell_type": "code",
   "execution_count": 511,
   "id": "a069a178",
   "metadata": {},
   "outputs": [
    {
     "data": {
      "text/plain": [
       "((9873, 4), (9944, 4))"
      ]
     },
     "execution_count": 511,
     "metadata": {},
     "output_type": "execute_result"
    }
   ],
   "source": [
    "#looking at the shape per subreddits\n",
    "df[df['subreddit']=='sustainability'].shape, df[df['subreddit']=='climatechange'].shape"
   ]
  },
  {
   "cell_type": "code",
   "execution_count": 512,
   "id": "e1d8c2f6",
   "metadata": {},
   "outputs": [
    {
     "data": {
      "text/plain": [
       "(title             0\n",
       " selftext       5870\n",
       " subreddit         0\n",
       " created_utc       0\n",
       " dtype: int64,\n",
       " title             0\n",
       " selftext       5948\n",
       " subreddit         0\n",
       " created_utc       0\n",
       " dtype: int64)"
      ]
     },
     "execution_count": 512,
     "metadata": {},
     "output_type": "execute_result"
    }
   ],
   "source": [
    "#checking null values per subreddits\n",
    "df[df['subreddit']=='sustainability'].isnull().sum(), df[df['subreddit']=='climatechange'].isnull().sum()"
   ]
  },
  {
   "cell_type": "code",
   "execution_count": 513,
   "id": "a6f84cfc",
   "metadata": {},
   "outputs": [],
   "source": [
    "#Dropping nan columns\n",
    "df= df.dropna()"
   ]
  },
  {
   "cell_type": "code",
   "execution_count": 514,
   "id": "5cedf996",
   "metadata": {},
   "outputs": [
    {
     "data": {
      "text/plain": [
       "(title          4003\n",
       " selftext       4003\n",
       " subreddit      4003\n",
       " created_utc    4003\n",
       " dtype: int64,\n",
       " title          3996\n",
       " selftext       3996\n",
       " subreddit      3996\n",
       " created_utc    3996\n",
       " dtype: int64)"
      ]
     },
     "execution_count": 514,
     "metadata": {},
     "output_type": "execute_result"
    }
   ],
   "source": [
    "#checking null values per subreddits\n",
    "df[df['subreddit']=='sustainability'].notnull().sum(), df[df['subreddit']=='climatechange'].notnull().sum()"
   ]
  },
  {
   "cell_type": "code",
   "execution_count": 515,
   "id": "0360f6d0",
   "metadata": {},
   "outputs": [
    {
     "name": "stdout",
     "output_type": "stream",
     "text": [
      "<class 'pandas.core.frame.DataFrame'>\n",
      "Int64Index: 7999 entries, 0 to 19814\n",
      "Data columns (total 4 columns):\n",
      " #   Column       Non-Null Count  Dtype \n",
      "---  ------       --------------  ----- \n",
      " 0   title        7999 non-null   object\n",
      " 1   selftext     7999 non-null   object\n",
      " 2   subreddit    7999 non-null   object\n",
      " 3   created_utc  7999 non-null   int64 \n",
      "dtypes: int64(1), object(3)\n",
      "memory usage: 312.5+ KB\n"
     ]
    }
   ],
   "source": [
    "#general info\n",
    "df.info()"
   ]
  },
  {
   "cell_type": "code",
   "execution_count": 516,
   "id": "9f825f50",
   "metadata": {},
   "outputs": [
    {
     "data": {
      "text/html": [
       "<div>\n",
       "<style scoped>\n",
       "    .dataframe tbody tr th:only-of-type {\n",
       "        vertical-align: middle;\n",
       "    }\n",
       "\n",
       "    .dataframe tbody tr th {\n",
       "        vertical-align: top;\n",
       "    }\n",
       "\n",
       "    .dataframe thead th {\n",
       "        text-align: right;\n",
       "    }\n",
       "</style>\n",
       "<table border=\"1\" class=\"dataframe\">\n",
       "  <thead>\n",
       "    <tr style=\"text-align: right;\">\n",
       "      <th></th>\n",
       "      <th>title</th>\n",
       "      <th>selftext</th>\n",
       "      <th>subreddit</th>\n",
       "      <th>created_utc</th>\n",
       "    </tr>\n",
       "  </thead>\n",
       "  <tbody>\n",
       "    <tr>\n",
       "      <th>0</th>\n",
       "      <td>Why does many big crop starting to have sustai...</td>\n",
       "      <td>Do they really suddenly 'care' about the envir...</td>\n",
       "      <td>sustainability</td>\n",
       "      <td>1645978811</td>\n",
       "    </tr>\n",
       "    <tr>\n",
       "      <th>4</th>\n",
       "      <td>Use new phone for 5 years or refurbished phone...</td>\n",
       "      <td>[removed]</td>\n",
       "      <td>sustainability</td>\n",
       "      <td>1645893490</td>\n",
       "    </tr>\n",
       "  </tbody>\n",
       "</table>\n",
       "</div>"
      ],
      "text/plain": [
       "                                               title  \\\n",
       "0  Why does many big crop starting to have sustai...   \n",
       "4  Use new phone for 5 years or refurbished phone...   \n",
       "\n",
       "                                            selftext       subreddit  \\\n",
       "0  Do they really suddenly 'care' about the envir...  sustainability   \n",
       "4                                          [removed]  sustainability   \n",
       "\n",
       "   created_utc  \n",
       "0   1645978811  \n",
       "4   1645893490  "
      ]
     },
     "execution_count": 516,
     "metadata": {},
     "output_type": "execute_result"
    }
   ],
   "source": [
    "#check again the head\n",
    "df.head(2)"
   ]
  },
  {
   "cell_type": "code",
   "execution_count": 517,
   "id": "76756bc9",
   "metadata": {},
   "outputs": [],
   "source": [
    "#removing website page and [removed] by using a lambda function\n",
    "df['title'] = df['title'].apply(lambda x: 'website row' if 'https:' in x else x)\n",
    "df['selftext'] = df['selftext'].apply(lambda x: 'website row' if 'https:' in x else x)\n",
    "df['selftext'] = df['selftext'].apply(lambda x: ' ' if '[removed]' in x else x)"
   ]
  },
  {
   "cell_type": "code",
   "execution_count": 518,
   "id": "81157301",
   "metadata": {},
   "outputs": [],
   "source": [
    "# putting together title and selftext in one column before start cleaning \n",
    "df['title_selftext'] = df['title'] + ' ' + df['selftext']"
   ]
  },
  {
   "cell_type": "code",
   "execution_count": 519,
   "id": "227a3c20",
   "metadata": {},
   "outputs": [],
   "source": [
    "# let's remove html text if any\n",
    "def remove_html(review):\n",
    "    no_html = BeautifulSoup(review).text #removes html\n",
    "    lower_case = no_html.lower()\n",
    "    \n",
    "    return lower_case\n",
    "\n",
    "# applying the function above\n",
    "df['title_selftext'] = df['title_selftext'].apply(remove_html)"
   ]
  },
  {
   "cell_type": "code",
   "execution_count": 520,
   "id": "331fad3d",
   "metadata": {},
   "outputs": [],
   "source": [
    "# dropping first two columns\n",
    "df = df.iloc[:, 2:]"
   ]
  },
  {
   "cell_type": "code",
   "execution_count": 521,
   "id": "ba71cd0d",
   "metadata": {},
   "outputs": [
    {
     "data": {
      "text/plain": [
       "((4003, 3), (3996, 3))"
      ]
     },
     "execution_count": 521,
     "metadata": {},
     "output_type": "execute_result"
    }
   ],
   "source": [
    "#looking at the shape of both subreddit\n",
    "df[df['subreddit']=='sustainability'].shape, df[df['subreddit']=='climatechange'].shape"
   ]
  },
  {
   "cell_type": "code",
   "execution_count": 522,
   "id": "00e2fc18",
   "metadata": {},
   "outputs": [],
   "source": [
    "#mapping subreddit\n",
    "df['subreddit'] = df['subreddit'].map({'sustainability':1, 'climatechange':0})"
   ]
  },
  {
   "cell_type": "code",
   "execution_count": 523,
   "id": "6fe1c1cb",
   "metadata": {},
   "outputs": [
    {
     "data": {
      "text/html": [
       "<div>\n",
       "<style scoped>\n",
       "    .dataframe tbody tr th:only-of-type {\n",
       "        vertical-align: middle;\n",
       "    }\n",
       "\n",
       "    .dataframe tbody tr th {\n",
       "        vertical-align: top;\n",
       "    }\n",
       "\n",
       "    .dataframe thead th {\n",
       "        text-align: right;\n",
       "    }\n",
       "</style>\n",
       "<table border=\"1\" class=\"dataframe\">\n",
       "  <thead>\n",
       "    <tr style=\"text-align: right;\">\n",
       "      <th></th>\n",
       "      <th>subreddit</th>\n",
       "      <th>created_utc</th>\n",
       "      <th>title_selftext</th>\n",
       "    </tr>\n",
       "  </thead>\n",
       "  <tbody>\n",
       "    <tr>\n",
       "      <th>0</th>\n",
       "      <td>1</td>\n",
       "      <td>1645978811</td>\n",
       "      <td>why does many big crop starting to have sustai...</td>\n",
       "    </tr>\n",
       "    <tr>\n",
       "      <th>4</th>\n",
       "      <td>1</td>\n",
       "      <td>1645893490</td>\n",
       "      <td>use new phone for 5 years or refurbished phone...</td>\n",
       "    </tr>\n",
       "    <tr>\n",
       "      <th>7</th>\n",
       "      <td>1</td>\n",
       "      <td>1645874797</td>\n",
       "      <td>shaving hey folks, so i'm trying to ditch the ...</td>\n",
       "    </tr>\n",
       "    <tr>\n",
       "      <th>8</th>\n",
       "      <td>1</td>\n",
       "      <td>1645873486</td>\n",
       "      <td>sustainable fishing and epic journey underwate...</td>\n",
       "    </tr>\n",
       "    <tr>\n",
       "      <th>11</th>\n",
       "      <td>1</td>\n",
       "      <td>1645838687</td>\n",
       "      <td>what is ultra fast fashion? investigating why ...</td>\n",
       "    </tr>\n",
       "    <tr>\n",
       "      <th>...</th>\n",
       "      <td>...</td>\n",
       "      <td>...</td>\n",
       "      <td>...</td>\n",
       "    </tr>\n",
       "    <tr>\n",
       "      <th>19805</th>\n",
       "      <td>0</td>\n",
       "      <td>1569646349</td>\n",
       "      <td>petition for any aussie’s out there website row</td>\n",
       "    </tr>\n",
       "    <tr>\n",
       "      <th>19808</th>\n",
       "      <td>0</td>\n",
       "      <td>1569634047</td>\n",
       "      <td>climate change question... about solar panel i...</td>\n",
       "    </tr>\n",
       "    <tr>\n",
       "      <th>19809</th>\n",
       "      <td>0</td>\n",
       "      <td>1569631762</td>\n",
       "      <td>greta thunberg the amount of hate that girl is...</td>\n",
       "    </tr>\n",
       "    <tr>\n",
       "      <th>19813</th>\n",
       "      <td>0</td>\n",
       "      <td>1569617554</td>\n",
       "      <td>climate change skepticism website row</td>\n",
       "    </tr>\n",
       "    <tr>\n",
       "      <th>19814</th>\n",
       "      <td>0</td>\n",
       "      <td>1569615484</td>\n",
       "      <td>the beginning of the end i don't know what's a...</td>\n",
       "    </tr>\n",
       "  </tbody>\n",
       "</table>\n",
       "<p>7999 rows × 3 columns</p>\n",
       "</div>"
      ],
      "text/plain": [
       "       subreddit  created_utc  \\\n",
       "0              1   1645978811   \n",
       "4              1   1645893490   \n",
       "7              1   1645874797   \n",
       "8              1   1645873486   \n",
       "11             1   1645838687   \n",
       "...          ...          ...   \n",
       "19805          0   1569646349   \n",
       "19808          0   1569634047   \n",
       "19809          0   1569631762   \n",
       "19813          0   1569617554   \n",
       "19814          0   1569615484   \n",
       "\n",
       "                                          title_selftext  \n",
       "0      why does many big crop starting to have sustai...  \n",
       "4      use new phone for 5 years or refurbished phone...  \n",
       "7      shaving hey folks, so i'm trying to ditch the ...  \n",
       "8      sustainable fishing and epic journey underwate...  \n",
       "11     what is ultra fast fashion? investigating why ...  \n",
       "...                                                  ...  \n",
       "19805    petition for any aussie’s out there website row  \n",
       "19808  climate change question... about solar panel i...  \n",
       "19809  greta thunberg the amount of hate that girl is...  \n",
       "19813              climate change skepticism website row  \n",
       "19814  the beginning of the end i don't know what's a...  \n",
       "\n",
       "[7999 rows x 3 columns]"
      ]
     },
     "execution_count": 523,
     "metadata": {},
     "output_type": "execute_result"
    }
   ],
   "source": [
    "#checking\n",
    "df"
   ]
  },
  {
   "cell_type": "markdown",
   "id": "a7fe9202",
   "metadata": {},
   "source": [
    "### **Section 2** Exploratory Data Analysis"
   ]
  },
  {
   "cell_type": "markdown",
   "id": "bcfc6c6f",
   "metadata": {},
   "source": [
    "I want to create two different columns that are counting both the length  and the number of words of the column title_selftext. And make a comparison between the two different subreddits"
   ]
  },
  {
   "cell_type": "code",
   "execution_count": 524,
   "id": "73f95ae8",
   "metadata": {},
   "outputs": [],
   "source": [
    "# Creating the two functions that I need  \n",
    "\n",
    "# Function 1 - Length\n",
    "def length(sentence):\n",
    "    return len(sentence)\n",
    "\n",
    "#Function 2 - word_count\n",
    "def word_count(sentence):\n",
    "    sentence = sentence.split(' ')\n",
    "    return len(sentence)"
   ]
  },
  {
   "cell_type": "code",
   "execution_count": 525,
   "id": "81f15b22",
   "metadata": {},
   "outputs": [],
   "source": [
    "#creating lenght column\n",
    "df['text_length'] = df['title_selftext'].map(length)"
   ]
  },
  {
   "cell_type": "code",
   "execution_count": 526,
   "id": "ecd15bdb",
   "metadata": {},
   "outputs": [],
   "source": [
    "#creating word count column\n",
    "df['word_count'] = df['title_selftext'].map(word_count)"
   ]
  },
  {
   "cell_type": "markdown",
   "id": "c4f1c0cd",
   "metadata": {},
   "source": [
    "**Text_Length** Now I want to take a look at the distribution of  the text_lenght for both subreddits"
   ]
  },
  {
   "cell_type": "code",
   "execution_count": 527,
   "id": "b888a321",
   "metadata": {},
   "outputs": [],
   "source": [
    "#let's create two seprate df to compare them\n",
    "sustainability = df[df['subreddit']==1]\n",
    "climate = df[df['subreddit']==0]"
   ]
  },
  {
   "cell_type": "code",
   "execution_count": 528,
   "id": "e6670f2b",
   "metadata": {},
   "outputs": [
    {
     "data": {
      "text/html": [
       "<div>\n",
       "<style scoped>\n",
       "    .dataframe tbody tr th:only-of-type {\n",
       "        vertical-align: middle;\n",
       "    }\n",
       "\n",
       "    .dataframe tbody tr th {\n",
       "        vertical-align: top;\n",
       "    }\n",
       "\n",
       "    .dataframe thead th {\n",
       "        text-align: right;\n",
       "    }\n",
       "</style>\n",
       "<table border=\"1\" class=\"dataframe\">\n",
       "  <thead>\n",
       "    <tr style=\"text-align: right;\">\n",
       "      <th></th>\n",
       "      <th>text_length</th>\n",
       "    </tr>\n",
       "  </thead>\n",
       "  <tbody>\n",
       "    <tr>\n",
       "      <th>4022</th>\n",
       "      <td>9984</td>\n",
       "    </tr>\n",
       "    <tr>\n",
       "      <th>7195</th>\n",
       "      <td>9586</td>\n",
       "    </tr>\n",
       "    <tr>\n",
       "      <th>7998</th>\n",
       "      <td>9344</td>\n",
       "    </tr>\n",
       "    <tr>\n",
       "      <th>938</th>\n",
       "      <td>8134</td>\n",
       "    </tr>\n",
       "    <tr>\n",
       "      <th>3195</th>\n",
       "      <td>7913</td>\n",
       "    </tr>\n",
       "    <tr>\n",
       "      <th>...</th>\n",
       "      <td>...</td>\n",
       "    </tr>\n",
       "    <tr>\n",
       "      <th>8672</th>\n",
       "      <td>10</td>\n",
       "    </tr>\n",
       "    <tr>\n",
       "      <th>1211</th>\n",
       "      <td>9</td>\n",
       "    </tr>\n",
       "    <tr>\n",
       "      <th>1259</th>\n",
       "      <td>6</td>\n",
       "    </tr>\n",
       "    <tr>\n",
       "      <th>1404</th>\n",
       "      <td>6</td>\n",
       "    </tr>\n",
       "    <tr>\n",
       "      <th>7361</th>\n",
       "      <td>5</td>\n",
       "    </tr>\n",
       "  </tbody>\n",
       "</table>\n",
       "<p>4003 rows × 1 columns</p>\n",
       "</div>"
      ],
      "text/plain": [
       "      text_length\n",
       "4022         9984\n",
       "7195         9586\n",
       "7998         9344\n",
       "938          8134\n",
       "3195         7913\n",
       "...           ...\n",
       "8672           10\n",
       "1211            9\n",
       "1259            6\n",
       "1404            6\n",
       "7361            5\n",
       "\n",
       "[4003 rows x 1 columns]"
      ]
     },
     "execution_count": 528,
     "metadata": {},
     "output_type": "execute_result"
    }
   ],
   "source": [
    "# sustainability: checking the range of values for lenght \n",
    "sustainability.sort_values(by='text_length', ascending=False)[['text_length']]"
   ]
  },
  {
   "cell_type": "code",
   "execution_count": 529,
   "id": "51fc2875",
   "metadata": {},
   "outputs": [
    {
     "data": {
      "text/plain": [
       "count    4003.000000\n",
       "mean      325.605296\n",
       "std       585.467878\n",
       "min         5.000000\n",
       "25%        54.000000\n",
       "50%       106.000000\n",
       "75%       402.500000\n",
       "max      9984.000000\n",
       "Name: text_length, dtype: float64"
      ]
     },
     "execution_count": 529,
     "metadata": {},
     "output_type": "execute_result"
    }
   ],
   "source": [
    "# sustainability: checking some stat for lenght\n",
    "sustainability['text_length'].describe()"
   ]
  },
  {
   "cell_type": "code",
   "execution_count": 530,
   "id": "e9170ca8",
   "metadata": {},
   "outputs": [
    {
     "data": {
      "text/html": [
       "<div>\n",
       "<style scoped>\n",
       "    .dataframe tbody tr th:only-of-type {\n",
       "        vertical-align: middle;\n",
       "    }\n",
       "\n",
       "    .dataframe tbody tr th {\n",
       "        vertical-align: top;\n",
       "    }\n",
       "\n",
       "    .dataframe thead th {\n",
       "        text-align: right;\n",
       "    }\n",
       "</style>\n",
       "<table border=\"1\" class=\"dataframe\">\n",
       "  <thead>\n",
       "    <tr style=\"text-align: right;\">\n",
       "      <th></th>\n",
       "      <th>text_length</th>\n",
       "    </tr>\n",
       "  </thead>\n",
       "  <tbody>\n",
       "    <tr>\n",
       "      <th>18798</th>\n",
       "      <td>33599</td>\n",
       "    </tr>\n",
       "    <tr>\n",
       "      <th>14261</th>\n",
       "      <td>13633</td>\n",
       "    </tr>\n",
       "    <tr>\n",
       "      <th>12250</th>\n",
       "      <td>13583</td>\n",
       "    </tr>\n",
       "    <tr>\n",
       "      <th>17695</th>\n",
       "      <td>10443</td>\n",
       "    </tr>\n",
       "    <tr>\n",
       "      <th>10454</th>\n",
       "      <td>9304</td>\n",
       "    </tr>\n",
       "    <tr>\n",
       "      <th>...</th>\n",
       "      <td>...</td>\n",
       "    </tr>\n",
       "    <tr>\n",
       "      <th>10650</th>\n",
       "      <td>6</td>\n",
       "    </tr>\n",
       "    <tr>\n",
       "      <th>15540</th>\n",
       "      <td>5</td>\n",
       "    </tr>\n",
       "    <tr>\n",
       "      <th>12740</th>\n",
       "      <td>5</td>\n",
       "    </tr>\n",
       "    <tr>\n",
       "      <th>14609</th>\n",
       "      <td>5</td>\n",
       "    </tr>\n",
       "    <tr>\n",
       "      <th>10531</th>\n",
       "      <td>3</td>\n",
       "    </tr>\n",
       "  </tbody>\n",
       "</table>\n",
       "<p>3996 rows × 1 columns</p>\n",
       "</div>"
      ],
      "text/plain": [
       "       text_length\n",
       "18798        33599\n",
       "14261        13633\n",
       "12250        13583\n",
       "17695        10443\n",
       "10454         9304\n",
       "...            ...\n",
       "10650            6\n",
       "15540            5\n",
       "12740            5\n",
       "14609            5\n",
       "10531            3\n",
       "\n",
       "[3996 rows x 1 columns]"
      ]
     },
     "execution_count": 530,
     "metadata": {},
     "output_type": "execute_result"
    }
   ],
   "source": [
    "# climate: checking the range of values for lenght \n",
    "climate.sort_values(by='text_length', ascending=False)[['text_length']]"
   ]
  },
  {
   "cell_type": "code",
   "execution_count": 531,
   "id": "cf9bac86",
   "metadata": {},
   "outputs": [
    {
     "data": {
      "text/plain": [
       "count     3996.000000\n",
       "mean       404.099349\n",
       "std        907.453893\n",
       "min          3.000000\n",
       "25%         61.000000\n",
       "50%        134.000000\n",
       "75%        458.250000\n",
       "max      33599.000000\n",
       "Name: text_length, dtype: float64"
      ]
     },
     "execution_count": 531,
     "metadata": {},
     "output_type": "execute_result"
    }
   ],
   "source": [
    "# climate: checking some stat for lenght\n",
    "climate['text_length'].describe()"
   ]
  },
  {
   "cell_type": "code",
   "execution_count": 532,
   "id": "9ee3c21e",
   "metadata": {},
   "outputs": [],
   "source": [
    "# I want to remove outliers for both \n",
    "# formula Q3 + (1.5 x IQR)\n",
    "sustainability = sustainability[sustainability['text_length']< (404 +(1.5*(404-54)))]\n",
    "climate = climate[climate['text_length']< (459 +(1.5*(459-61)))]"
   ]
  },
  {
   "cell_type": "code",
   "execution_count": 533,
   "id": "4cca0d0f",
   "metadata": {},
   "outputs": [
    {
     "data": {
      "image/png": "[encoded data removed]",
      "text/plain": [
       "<Figure size 864x432 with 1 Axes>"
      ]
     },
     "metadata": {
      "needs_background": "light"
     },
     "output_type": "display_data"
    }
   ],
   "source": [
    "plt.figure(figsize=(12,6))\n",
    "plt.hist(climate['text_length'], bins=20, color='skyblue', alpha=0.9, label='Climate Change')\n",
    "plt.hist(sustainability['text_length'], bins=20, color='orange', alpha=0.7, label='Sustainability')\n",
    "#plt.axvline(climate['text_length'].median(), color = 'orange', lw=2)\n",
    "plt.xlabel('Length of Text', fontdict= {'fontsize':14})\n",
    "plt.ylabel('Frequency', fontdict= {'fontsize':14})\n",
    "plt.title('Distribution Of The Text Length', fontdict = {'fontsize':16})\n",
    "plt.tight_layout()\n",
    "plt.legend();"
   ]
  },
  {
   "cell_type": "markdown",
   "id": "31e7a1ab",
   "metadata": {},
   "source": [
    "**Word_Count** Now I want to take a look at the distribution of  the word_count for both subreddits"
   ]
  },
  {
   "cell_type": "code",
   "execution_count": 534,
   "id": "238790e0",
   "metadata": {},
   "outputs": [
    {
     "data": {
      "text/html": [
       "<div>\n",
       "<style scoped>\n",
       "    .dataframe tbody tr th:only-of-type {\n",
       "        vertical-align: middle;\n",
       "    }\n",
       "\n",
       "    .dataframe tbody tr th {\n",
       "        vertical-align: top;\n",
       "    }\n",
       "\n",
       "    .dataframe thead th {\n",
       "        text-align: right;\n",
       "    }\n",
       "</style>\n",
       "<table border=\"1\" class=\"dataframe\">\n",
       "  <thead>\n",
       "    <tr style=\"text-align: right;\">\n",
       "      <th></th>\n",
       "      <th>word_count</th>\n",
       "    </tr>\n",
       "  </thead>\n",
       "  <tbody>\n",
       "    <tr>\n",
       "      <th>8328</th>\n",
       "      <td>178</td>\n",
       "    </tr>\n",
       "    <tr>\n",
       "      <th>4274</th>\n",
       "      <td>177</td>\n",
       "    </tr>\n",
       "    <tr>\n",
       "      <th>6231</th>\n",
       "      <td>176</td>\n",
       "    </tr>\n",
       "    <tr>\n",
       "      <th>3349</th>\n",
       "      <td>173</td>\n",
       "    </tr>\n",
       "    <tr>\n",
       "      <th>5648</th>\n",
       "      <td>172</td>\n",
       "    </tr>\n",
       "    <tr>\n",
       "      <th>...</th>\n",
       "      <td>...</td>\n",
       "    </tr>\n",
       "    <tr>\n",
       "      <th>4797</th>\n",
       "      <td>2</td>\n",
       "    </tr>\n",
       "    <tr>\n",
       "      <th>5741</th>\n",
       "      <td>2</td>\n",
       "    </tr>\n",
       "    <tr>\n",
       "      <th>2104</th>\n",
       "      <td>2</td>\n",
       "    </tr>\n",
       "    <tr>\n",
       "      <th>924</th>\n",
       "      <td>2</td>\n",
       "    </tr>\n",
       "    <tr>\n",
       "      <th>4295</th>\n",
       "      <td>2</td>\n",
       "    </tr>\n",
       "  </tbody>\n",
       "</table>\n",
       "<p>3702 rows × 1 columns</p>\n",
       "</div>"
      ],
      "text/plain": [
       "      word_count\n",
       "8328         178\n",
       "4274         177\n",
       "6231         176\n",
       "3349         173\n",
       "5648         172\n",
       "...          ...\n",
       "4797           2\n",
       "5741           2\n",
       "2104           2\n",
       "924            2\n",
       "4295           2\n",
       "\n",
       "[3702 rows x 1 columns]"
      ]
     },
     "execution_count": 534,
     "metadata": {},
     "output_type": "execute_result"
    }
   ],
   "source": [
    "# sustainability: checking the range of values for wordcount \n",
    "sustainability.sort_values(by='word_count', ascending=False)[['word_count']]"
   ]
  },
  {
   "cell_type": "code",
   "execution_count": 535,
   "id": "ece19a6b",
   "metadata": {},
   "outputs": [
    {
     "data": {
      "text/plain": [
       "count    3702.000000\n",
       "mean       35.559157\n",
       "std        38.553340\n",
       "min         2.000000\n",
       "25%         9.000000\n",
       "50%        16.000000\n",
       "75%        54.000000\n",
       "max       178.000000\n",
       "Name: word_count, dtype: float64"
      ]
     },
     "execution_count": 535,
     "metadata": {},
     "output_type": "execute_result"
    }
   ],
   "source": [
    "# sustainability: checking some stat \n",
    "sustainability['word_count'].describe()"
   ]
  },
  {
   "cell_type": "code",
   "execution_count": 536,
   "id": "03ec02b5",
   "metadata": {},
   "outputs": [
    {
     "data": {
      "text/html": [
       "<div>\n",
       "<style scoped>\n",
       "    .dataframe tbody tr th:only-of-type {\n",
       "        vertical-align: middle;\n",
       "    }\n",
       "\n",
       "    .dataframe tbody tr th {\n",
       "        vertical-align: top;\n",
       "    }\n",
       "\n",
       "    .dataframe thead th {\n",
       "        text-align: right;\n",
       "    }\n",
       "</style>\n",
       "<table border=\"1\" class=\"dataframe\">\n",
       "  <thead>\n",
       "    <tr style=\"text-align: right;\">\n",
       "      <th></th>\n",
       "      <th>word_count</th>\n",
       "    </tr>\n",
       "  </thead>\n",
       "  <tbody>\n",
       "    <tr>\n",
       "      <th>12707</th>\n",
       "      <td>201</td>\n",
       "    </tr>\n",
       "    <tr>\n",
       "      <th>10550</th>\n",
       "      <td>199</td>\n",
       "    </tr>\n",
       "    <tr>\n",
       "      <th>12273</th>\n",
       "      <td>199</td>\n",
       "    </tr>\n",
       "    <tr>\n",
       "      <th>11283</th>\n",
       "      <td>194</td>\n",
       "    </tr>\n",
       "    <tr>\n",
       "      <th>13430</th>\n",
       "      <td>192</td>\n",
       "    </tr>\n",
       "    <tr>\n",
       "      <th>...</th>\n",
       "      <td>...</td>\n",
       "    </tr>\n",
       "    <tr>\n",
       "      <th>18037</th>\n",
       "      <td>3</td>\n",
       "    </tr>\n",
       "    <tr>\n",
       "      <th>17360</th>\n",
       "      <td>3</td>\n",
       "    </tr>\n",
       "    <tr>\n",
       "      <th>10834</th>\n",
       "      <td>3</td>\n",
       "    </tr>\n",
       "    <tr>\n",
       "      <th>17739</th>\n",
       "      <td>2</td>\n",
       "    </tr>\n",
       "    <tr>\n",
       "      <th>16621</th>\n",
       "      <td>2</td>\n",
       "    </tr>\n",
       "  </tbody>\n",
       "</table>\n",
       "<p>3650 rows × 1 columns</p>\n",
       "</div>"
      ],
      "text/plain": [
       "       word_count\n",
       "12707         201\n",
       "10550         199\n",
       "12273         199\n",
       "11283         194\n",
       "13430         192\n",
       "...           ...\n",
       "18037           3\n",
       "17360           3\n",
       "10834           3\n",
       "17739           2\n",
       "16621           2\n",
       "\n",
       "[3650 rows x 1 columns]"
      ]
     },
     "execution_count": 536,
     "metadata": {},
     "output_type": "execute_result"
    }
   ],
   "source": [
    "# climate: checking the range of values for wordcount \n",
    "climate.sort_values(by='word_count', ascending=False)[['word_count']]"
   ]
  },
  {
   "cell_type": "code",
   "execution_count": 537,
   "id": "5b8db282",
   "metadata": {},
   "outputs": [
    {
     "data": {
      "text/plain": [
       "count    3650.000000\n",
       "mean       40.687123\n",
       "std        43.120221\n",
       "min         2.000000\n",
       "25%        10.000000\n",
       "50%        19.000000\n",
       "75%        60.000000\n",
       "max       201.000000\n",
       "Name: word_count, dtype: float64"
      ]
     },
     "execution_count": 537,
     "metadata": {},
     "output_type": "execute_result"
    }
   ],
   "source": [
    "# climate: checking some stat \n",
    "climate['word_count'].describe()"
   ]
  },
  {
   "cell_type": "code",
   "execution_count": 538,
   "id": "717658b3",
   "metadata": {},
   "outputs": [
    {
     "data": {
      "image/png": "[encoded data removed]",
      "text/plain": [
       "<Figure size 864x432 with 1 Axes>"
      ]
     },
     "metadata": {
      "needs_background": "light"
     },
     "output_type": "display_data"
    }
   ],
   "source": [
    "plt.figure(figsize=(12,6))\n",
    "plt.hist(climate['word_count'], bins=20, color='skyblue', alpha=0.9, label='Climate Change')\n",
    "plt.hist(sustainability['word_count'], bins=20, color='orange', alpha=0.7, label='Sustainability')\n",
    "#plt.axvline(climate['text_length'].median(), color = 'orange', lw=2)\n",
    "plt.xlabel('Number of Words', fontdict= {'fontsize':14})\n",
    "plt.ylabel('Frequency', fontdict= {'fontsize':14})\n",
    "plt.title('Distribution Of The Number Of Words', fontdict = {'fontsize':16})\n",
    "plt.tight_layout()\n",
    "plt.legend();"
   ]
  },
  {
   "cell_type": "markdown",
   "id": "b5b2d8d9",
   "metadata": {},
   "source": [
    "**CounterVectorizing** Here I just want to give a first look at the 15 most common words in both dataset. I will begin with ngram_range=(1, 1); and then repeat the test with  ngram_range=(2, 2)"
   ]
  },
  {
   "cell_type": "markdown",
   "id": "e52fefa7",
   "metadata": {},
   "source": [
    "**Step 1** First off, I need to assemble my target, predictors and train_test_split; I will also instantiate a CountVectorize only for enlarging the list of of stop_words I will be utilizing"
   ]
  },
  {
   "cell_type": "code",
   "execution_count": 539,
   "id": "d97f8707",
   "metadata": {},
   "outputs": [],
   "source": [
    "#Assembling my X and y\n",
    "X = df['title_selftext']\n",
    "y = df['subreddit']\n",
    "X_train, X_test, y_train, y_test = train_test_split(X,\n",
    "                                                    y,\n",
    "                                                    stratify=y,\n",
    "                                                    random_state=42)"
   ]
  },
  {
   "cell_type": "code",
   "execution_count": 540,
   "id": "cdd74416",
   "metadata": {},
   "outputs": [],
   "source": [
    "#Enlargin th elist of stop words\n",
    "cvec = CountVectorizer(stop_words='english')\n",
    "stop_words = list(cvec.get_stop_words())\n",
    "lst = ['help','com' ,'have','ve' ,\"does\", 'know', \"don\", 'want', 'website', 'row', 'let', 'hey', 'guys', \n",
    "       'like', 'hey', 'place', 'http', 'www', 'bytes', 'think', \"don't\", \"doesn't\", \"does\", 'just', \n",
    "       'people', 'use',\"i've\", 'hi', 'need', 'sustainability', 'climate', 'change', 'really','sustainable']\n",
    "\n",
    "stop_words = stop_words + lst"
   ]
  },
  {
   "cell_type": "markdown",
   "id": "a93043c1",
   "metadata": {},
   "source": [
    "**CountVectorizer (1, 1)** Here I will be looking at the most common 10 single words for both subreddits"
   ]
  },
  {
   "cell_type": "code",
   "execution_count": 541,
   "id": "b48778ba",
   "metadata": {},
   "outputs": [
    {
     "name": "stderr",
     "output_type": "stream",
     "text": [
      "/Users/filoradice/opt/anaconda3/lib/python3.9/site-packages/sklearn/feature_extraction/text.py:388: UserWarning: Your stop_words may be inconsistent with your preprocessing. Tokenizing the stop words generated tokens ['doesn'] not in stop_words.\n",
      "  warnings.warn('Your stop_words may be inconsistent with '\n"
     ]
    },
    {
     "data": {
      "text/plain": [
       "CountVectorizer(max_features=2000, min_df=7,\n",
       "                stop_words=['wherever', 'as', 'thereupon', 'is', 'somewhere',\n",
       "                            'fifteen', 'hundred', 'but', 'might', 'every',\n",
       "                            'side', 'no', 'nor', 'of', 'mine', 'from', 'this',\n",
       "                            'ltd', 'none', 'herein', 'put', 'should', 'herself',\n",
       "                            'thus', 'co', 'yet', 'also', 'he', 'bottom',\n",
       "                            'sometimes', ...])"
      ]
     },
     "execution_count": 541,
     "metadata": {},
     "output_type": "execute_result"
    }
   ],
   "source": [
    "#instantiate and fitting countervectorizer\n",
    "cvec_1 = CountVectorizer(stop_words=stop_words, ngram_range=(1, 1), \n",
    "                         max_features =2_000, min_df=7,  )\n",
    "cvec_1.fit(X_train) "
   ]
  },
  {
   "cell_type": "code",
   "execution_count": 542,
   "id": "a381d9e8",
   "metadata": {},
   "outputs": [],
   "source": [
    "#transforming the corpus\n",
    "transform = cvec_1.transform(X_train)"
   ]
  },
  {
   "cell_type": "code",
   "execution_count": 543,
   "id": "2998c559",
   "metadata": {},
   "outputs": [],
   "source": [
    "#turning back a dataframe\n",
    "df_transform = pd.DataFrame(transform.todense(), columns= cvec_1.get_feature_names())\n",
    "df_transform['subreddit'] = y_train.values"
   ]
  },
  {
   "cell_type": "code",
   "execution_count": 544,
   "id": "a5e6e97d",
   "metadata": {},
   "outputs": [
    {
     "data": {
      "text/plain": [
       "world             467\n",
       "carbon            425\n",
       "global            379\n",
       "years             376\n",
       "earth             357\n",
       "                 ... \n",
       "certifications      0\n",
       "utensils            0\n",
       "milk                0\n",
       "cloth               0\n",
       "toothbrushes        0\n",
       "Name: 0, Length: 1999, dtype: int64"
      ]
     },
     "execution_count": 544,
     "metadata": {},
     "output_type": "execute_result"
    }
   ],
   "source": [
    "words_cc = df_transform.groupby('subreddit').sum().T.sort_values(0, ascending=False).iloc[:,0]\n",
    "words_cc"
   ]
  },
  {
   "cell_type": "code",
   "execution_count": 545,
   "id": "026ad803",
   "metadata": {},
   "outputs": [
    {
     "data": {
      "text/plain": [
       "make           399\n",
       "plastic        352\n",
       "looking        348\n",
       "new            310\n",
       "waste          303\n",
       "              ... \n",
       "flooding         0\n",
       "snow             0\n",
       "hotter           0\n",
       "atmospheric      0\n",
       "gasses           0\n",
       "Name: 1, Length: 1999, dtype: int64"
      ]
     },
     "execution_count": 545,
     "metadata": {},
     "output_type": "execute_result"
    }
   ],
   "source": [
    "words_ss = df_transform.groupby('subreddit').sum().T.sort_values(1, ascending=False).iloc[:,1]\n",
    "words_ss"
   ]
  },
  {
   "cell_type": "code",
   "execution_count": 546,
   "id": "b36ce299",
   "metadata": {},
   "outputs": [
    {
     "data": {
      "image/png": "[encoded data removed]",
      "text/plain": [
       "<Figure size 864x432 with 1 Axes>"
      ]
     },
     "metadata": {
      "needs_background": "light"
     },
     "output_type": "display_data"
    }
   ],
   "source": [
    "plt.figure(figsize=(12,6))\n",
    "words_cc = words_cc.head(10).sort_values(ascending=True)\n",
    "x = words_cc.index\n",
    "y = words_cc\n",
    "plt.barh(x,y, color ='midnightblue', height=0.90)\n",
    "plt.xlabel('Number of Most Common Words', fontdict= {'fontsize':14})\n",
    "plt.title('Most Common Words In Climate Change', fontdict = {'fontsize':16})\n",
    "ax = plt.subplot()\n",
    "ax.set_yticks(x)\n",
    "ax.set_yticklabels(x, fontdict= {'fontsize':12} )\n",
    "plt.tight_layout();\n",
    "plt.savefig(('../images/1.commonword_cc.png'), bbox_inches=\"tight\", dpi=100)"
   ]
  },
  {
   "cell_type": "code",
   "execution_count": 547,
   "id": "9ad61005",
   "metadata": {},
   "outputs": [
    {
     "data": {
      "image/png": "[encoded data removed]",
      "text/plain": [
       "<Figure size 864x432 with 1 Axes>"
      ]
     },
     "metadata": {
      "needs_background": "light"
     },
     "output_type": "display_data"
    }
   ],
   "source": [
    "plt.figure(figsize=(12,6))\n",
    "words_ss = words_ss.head(10).sort_values(ascending=True)\n",
    "x = words_ss.index\n",
    "y = words_ss\n",
    "plt.barh(x,y, color ='darkcyan', height=0.90)\n",
    "plt.xlabel('Number of Most Common Words', fontdict= {'fontsize':14})\n",
    "plt.title('Most Common Words In Sustainability', fontdict = {'fontsize':16})\n",
    "ax = plt.subplot()\n",
    "ax.set_yticks(x)\n",
    "ax.set_yticklabels(x, fontdict= {'fontsize':12} )\n",
    "plt.tight_layout();\n",
    "plt.savefig(('../images/1.commonword_ss.png'), bbox_inches=\"tight\", dpi=100)"
   ]
  },
  {
   "cell_type": "markdown",
   "id": "accd1ec1",
   "metadata": {},
   "source": [
    "**CountVectorizer (2, 2)** Here I will be looking at the most common 10 bigrams  for both subreddits"
   ]
  },
  {
   "cell_type": "code",
   "execution_count": 548,
   "id": "bf93413f",
   "metadata": {},
   "outputs": [
    {
     "data": {
      "text/plain": [
       "CountVectorizer(max_features=2000, min_df=7, ngram_range=(2, 2),\n",
       "                stop_words=['wherever', 'as', 'thereupon', 'is', 'somewhere',\n",
       "                            'fifteen', 'hundred', 'but', 'might', 'every',\n",
       "                            'side', 'no', 'nor', 'of', 'mine', 'from', 'this',\n",
       "                            'ltd', 'none', 'herein', 'put', 'should', 'herself',\n",
       "                            'thus', 'co', 'yet', 'also', 'he', 'bottom',\n",
       "                            'sometimes', ...])"
      ]
     },
     "execution_count": 548,
     "metadata": {},
     "output_type": "execute_result"
    }
   ],
   "source": [
    "#instantiate and fitting countervectorizer\n",
    "cvec_2 = CountVectorizer(stop_words=stop_words, ngram_range=(2, 2), \n",
    "                         max_features =2_000, min_df=7,  )\n",
    "cvec_2.fit(X_train) "
   ]
  },
  {
   "cell_type": "code",
   "execution_count": 549,
   "id": "8161bdc7",
   "metadata": {},
   "outputs": [],
   "source": [
    "#transforming the corpus\n",
    "transform_2 = cvec_2.transform(X_train)"
   ]
  },
  {
   "cell_type": "code",
   "execution_count": 550,
   "id": "839d3f2c",
   "metadata": {},
   "outputs": [],
   "source": [
    "#turning back a dataframe\n",
    "df_transform_2 = pd.DataFrame(transform_2.todense(), columns= cvec_2.get_feature_names())\n",
    "df_transform_2['subreddit'] = y_train.values"
   ]
  },
  {
   "cell_type": "code",
   "execution_count": 551,
   "id": "080e928c",
   "metadata": {},
   "outputs": [
    {
     "data": {
      "text/plain": [
       "global warming       217\n",
       "fossil fuels          71\n",
       "carbon footprint      62\n",
       "co2 emissions         57\n",
       "carbon emissions      53\n",
       "                    ... \n",
       "fair trade             0\n",
       "development goals      0\n",
       "food products          0\n",
       "right ask              0\n",
       "looking new            0\n",
       "Name: 0, Length: 457, dtype: int64"
      ]
     },
     "execution_count": 551,
     "metadata": {},
     "output_type": "execute_result"
    }
   ],
   "source": [
    "words_cc_2 = df_transform_2.groupby('subreddit').sum().T.sort_values(0,ascending=False).iloc[:,0]\n",
    "words_cc_2"
   ]
  },
  {
   "cell_type": "code",
   "execution_count": 552,
   "id": "fa0ae812",
   "metadata": {},
   "outputs": [
    {
     "data": {
      "text/plain": [
       "eco friendly        126\n",
       "carbon footprint     54\n",
       "zero waste           52\n",
       "food waste           44\n",
       "thanks advance       42\n",
       "                   ... \n",
       "fuel companies        0\n",
       "freejoy aimoo         0\n",
       "feedback loops        0\n",
       "end world             0\n",
       "000 years             0\n",
       "Name: 1, Length: 457, dtype: int64"
      ]
     },
     "execution_count": 552,
     "metadata": {},
     "output_type": "execute_result"
    }
   ],
   "source": [
    "words_stb_2 = df_transform_2.groupby('subreddit').sum().T.sort_values(1,ascending=False).iloc[:,1]\n",
    "words_stb_2"
   ]
  },
  {
   "cell_type": "code",
   "execution_count": 553,
   "id": "b8b6ca18",
   "metadata": {},
   "outputs": [
    {
     "data": {
      "image/png": "[encoded data removed]",
      "text/plain": [
       "<Figure size 864x432 with 1 Axes>"
      ]
     },
     "metadata": {
      "needs_background": "light"
     },
     "output_type": "display_data"
    }
   ],
   "source": [
    "plt.figure(figsize=(12,6))\n",
    "words_cc_2 = words_cc_2.head(10).sort_values(ascending=True)\n",
    "x = words_cc_2.index\n",
    "y = words_cc_2\n",
    "plt.barh(x,y, color ='midnightblue', height=0.90)\n",
    "plt.xlabel('Number of Most Common Words', fontdict= {'fontsize':14})\n",
    "plt.title('Most Common Words In Climate Change', fontdict = {'fontsize':16})\n",
    "plt.tight_layout();\n",
    "ax = plt.subplot()\n",
    "ax.set_yticks(x)\n",
    "ax.set_yticklabels(x, fontdict= {'fontsize':12} )\n",
    "plt.tight_layout();\n",
    "plt.savefig(('../images/2.commonword_cc.png'), bbox_inches=\"tight\", dpi=100)"
   ]
  },
  {
   "cell_type": "code",
   "execution_count": 554,
   "id": "02a762e3",
   "metadata": {},
   "outputs": [
    {
     "data": {
      "image/png": "[encoded data removed]",
      "text/plain": [
       "<Figure size 864x432 with 1 Axes>"
      ]
     },
     "metadata": {
      "needs_background": "light"
     },
     "output_type": "display_data"
    }
   ],
   "source": [
    "plt.figure(figsize=(12,6))\n",
    "words_stb_2 = words_stb_2.head(10).sort_values(ascending=True)\n",
    "x = words_stb_2.index\n",
    "y = words_stb_2\n",
    "plt.barh(x,y, color ='darkcyan', height=0.90)\n",
    "plt.xlabel('Number of Most Common Words', fontdict= {'fontsize':14})\n",
    "plt.title('Most Common Words In Sustainability', fontdict = {'fontsize':16})\n",
    "ax = plt.subplot()\n",
    "ax.set_yticks(x)\n",
    "ax.set_yticklabels(x, fontdict= {'fontsize':12} )\n",
    "plt.tight_layout();\n",
    "plt.savefig(('../images/2.commonword_ss.png'), bbox_inches=\"tight\", dpi=100)"
   ]
  },
  {
   "cell_type": "markdown",
   "id": "07c5e5e0",
   "metadata": {},
   "source": [
    "**CountVectorizer (3, 3)** Here I will be looking at the most common 10 trigrams  for both subreddits"
   ]
  },
  {
   "cell_type": "code",
   "execution_count": 555,
   "id": "b3b8929e",
   "metadata": {},
   "outputs": [
    {
     "data": {
      "text/plain": [
       "CountVectorizer(max_features=2000, min_df=7, ngram_range=(3, 3),\n",
       "                stop_words=['wherever', 'as', 'thereupon', 'is', 'somewhere',\n",
       "                            'fifteen', 'hundred', 'but', 'might', 'every',\n",
       "                            'side', 'no', 'nor', 'of', 'mine', 'from', 'this',\n",
       "                            'ltd', 'none', 'herein', 'put', 'should', 'herself',\n",
       "                            'thus', 'co', 'yet', 'also', 'he', 'bottom',\n",
       "                            'sometimes', ...])"
      ]
     },
     "execution_count": 555,
     "metadata": {},
     "output_type": "execute_result"
    }
   ],
   "source": [
    "#instantiate and fitting countervectorizer\n",
    "cvec_3 = CountVectorizer(stop_words=stop_words, ngram_range=(3, 3), \n",
    "                         max_features =2_000, min_df=7,  )\n",
    "cvec_3.fit(X_train) "
   ]
  },
  {
   "cell_type": "code",
   "execution_count": 556,
   "id": "137af505",
   "metadata": {},
   "outputs": [
    {
     "data": {
      "text/plain": [
       "sea level rise                     29\n",
       "greenhouse gas emissions           15\n",
       "reduce carbon footprint            15\n",
       "rising sea levels                  14\n",
       "burning fossil fuels               13\n",
       "green new deal                     10\n",
       "fossil fuel companies               9\n",
       "worst case scenario                 9\n",
       "global temperature increase         8\n",
       "best regard savior                  8\n",
       "sea levels rise                     8\n",
       "believe global warming              7\n",
       "having hard time                    6\n",
       "plant based diet                    6\n",
       "away fossil fuels                   6\n",
       "fossil fuel industry                4\n",
       "make world better                   2\n",
       "eco friendly products               1\n",
       "having trouble finding              0\n",
       "corporate social responsibility     0\n",
       "build world challenge               0\n",
       "shampoo conditioner bars            0\n",
       "Name: 0, dtype: int64"
      ]
     },
     "execution_count": 556,
     "metadata": {},
     "output_type": "execute_result"
    }
   ],
   "source": [
    "#transforming the corpus\n",
    "transform_3 = cvec_3.transform(X_train)\n",
    "\n",
    "#turning back a dataframe\n",
    "df_transform_3 = pd.DataFrame(transform_3.todense(), columns= cvec_3.get_feature_names())\n",
    "df_transform_3['subreddit'] = y_train.values\n",
    "\n",
    "words_cc_3 = df_transform_3.groupby('subreddit').sum().T.sort_values(0,ascending=False).iloc[:,0]\n",
    "words_cc_3"
   ]
  },
  {
   "cell_type": "code",
   "execution_count": 557,
   "id": "faae42d5",
   "metadata": {},
   "outputs": [
    {
     "data": {
      "text/plain": [
       "shampoo conditioner bars           11\n",
       "reduce carbon footprint            11\n",
       "greenhouse gas emissions            8\n",
       "build world challenge               8\n",
       "eco friendly products               8\n",
       "make world better                   8\n",
       "corporate social responsibility     7\n",
       "plant based diet                    7\n",
       "having trouble finding              7\n",
       "having hard time                    5\n",
       "away fossil fuels                   3\n",
       "fossil fuel industry                3\n",
       "burning fossil fuels                2\n",
       "green new deal                      1\n",
       "rising sea levels                   1\n",
       "sea levels rise                     1\n",
       "worst case scenario                 1\n",
       "believe global warming              0\n",
       "global temperature increase         0\n",
       "fossil fuel companies               0\n",
       "sea level rise                      0\n",
       "best regard savior                  0\n",
       "Name: 1, dtype: int64"
      ]
     },
     "execution_count": 557,
     "metadata": {},
     "output_type": "execute_result"
    }
   ],
   "source": [
    "words_stb_3 = df_transform_3.groupby('subreddit').sum().T.sort_values(1,ascending=False).iloc[:,1]\n",
    "words_stb_3"
   ]
  },
  {
   "cell_type": "code",
   "execution_count": 558,
   "id": "ead5b814",
   "metadata": {},
   "outputs": [
    {
     "data": {
      "image/png": "[encoded data removed]",
      "text/plain": [
       "<Figure size 864x432 with 1 Axes>"
      ]
     },
     "metadata": {
      "needs_background": "light"
     },
     "output_type": "display_data"
    }
   ],
   "source": [
    "plt.figure(figsize=(12,6))\n",
    "words_cc_3 = words_cc_3.head(10).sort_values(ascending=True)\n",
    "x = words_cc_3.index\n",
    "y = words_cc_3\n",
    "plt.barh(x,y, color ='midnightblue', height=0.90)\n",
    "plt.xlabel('Number of Most Common Words', fontdict= {'fontsize':14})\n",
    "plt.title('Most Common Words In Climate Change', fontdict = {'fontsize':16})\n",
    "ax = plt.subplot()\n",
    "ax.set_yticks(x)\n",
    "ax.set_yticklabels(x, fontdict= {'fontsize':12} )\n",
    "plt.tight_layout();\n",
    "plt.savefig(('../images/3.commonword_cc.png'), bbox_inches=\"tight\", dpi=100)"
   ]
  },
  {
   "cell_type": "code",
   "execution_count": 559,
   "id": "7ebae845",
   "metadata": {},
   "outputs": [
    {
     "data": {
      "image/png": "[encoded data removed]",
      "text/plain": [
       "<Figure size 864x432 with 1 Axes>"
      ]
     },
     "metadata": {
      "needs_background": "light"
     },
     "output_type": "display_data"
    }
   ],
   "source": [
    "plt.figure(figsize=(12,6))\n",
    "words_stb_3 = words_stb_3.head(10).sort_values(ascending=True)\n",
    "x = words_stb_3.index\n",
    "y = words_stb_3\n",
    "plt.barh(x,y, color ='darkcyan', height=0.90)\n",
    "plt.xlabel('Number of Most Common Words', fontdict= {'fontsize':14})\n",
    "plt.title('Most Common Words In Sustainability', fontdict = {'fontsize':16})\n",
    "ax = plt.subplot()\n",
    "ax.set_yticks(x)\n",
    "ax.set_yticklabels(x, fontdict= {'fontsize':12} )\n",
    "plt.tight_layout();\n",
    "plt.savefig(('../images/3.commonword_ss.png'), bbox_inches=\"tight\", dpi=100)"
   ]
  },
  {
   "cell_type": "markdown",
   "id": "60a7ed2b",
   "metadata": {},
   "source": [
    "### **Section 3** Sentiment Analysis and  EDA "
   ]
  },
  {
   "cell_type": "markdown",
   "id": "8d3f254c",
   "metadata": {},
   "source": [
    "In this section is where I am assessing the sentiment analysis of both groups, climatechange and sustainability, and see if I can already visualize any differences in their sentiment scores. "
   ]
  },
  {
   "cell_type": "code",
   "execution_count": 560,
   "id": "d380d603",
   "metadata": {},
   "outputs": [],
   "source": [
    "sia = SentimentIntensityAnalyzer()"
   ]
  },
  {
   "cell_type": "code",
   "execution_count": 561,
   "id": "b29e4027",
   "metadata": {},
   "outputs": [],
   "source": [
    "def extract_sentiment(review):\n",
    "    scores = sia.polarity_scores(review)\n",
    "    return scores['compound']"
   ]
  },
  {
   "cell_type": "code",
   "execution_count": 562,
   "id": "533d436c",
   "metadata": {},
   "outputs": [],
   "source": [
    "df_new = df[['subreddit', 'title_selftext']]"
   ]
  },
  {
   "cell_type": "code",
   "execution_count": 563,
   "id": "62251aed",
   "metadata": {},
   "outputs": [
    {
     "name": "stderr",
     "output_type": "stream",
     "text": [
      "/var/folders/kz/gkm958296f79lgmty6dfw0xc0000gn/T/ipykernel_44401/2784623507.py:1: SettingWithCopyWarning: \n",
      "A value is trying to be set on a copy of a slice from a DataFrame.\n",
      "Try using .loc[row_indexer,col_indexer] = value instead\n",
      "\n",
      "See the caveats in the documentation: https://pandas.pydata.org/pandas-docs/stable/user_guide/indexing.html#returning-a-view-versus-a-copy\n",
      "  df_new['sentiment_score'] = df_new['title_selftext'].map(extract_sentiment)\n"
     ]
    }
   ],
   "source": [
    "df_new['sentiment_score'] = df_new['title_selftext'].map(extract_sentiment)"
   ]
  },
  {
   "cell_type": "code",
   "execution_count": 564,
   "id": "1bee24ab",
   "metadata": {},
   "outputs": [],
   "source": [
    "climatechange = df_new[df_new['subreddit'] == 0].sort_values(by='sentiment_score', ascending=False)\n",
    "sustainability = df_new[df_new['subreddit'] == 1].sort_values(by='sentiment_score', ascending=False)"
   ]
  },
  {
   "cell_type": "code",
   "execution_count": 565,
   "id": "f106b005",
   "metadata": {},
   "outputs": [
    {
     "data": {
      "text/plain": [
       "count    3996.000000\n",
       "mean        0.131979\n",
       "std         0.540382\n",
       "min        -0.999300\n",
       "25%        -0.177900\n",
       "50%         0.000000\n",
       "75%         0.581625\n",
       "max         0.998400\n",
       "Name: sentiment_score, dtype: float64"
      ]
     },
     "execution_count": 565,
     "metadata": {},
     "output_type": "execute_result"
    }
   ],
   "source": [
    "climatechange['sentiment_score'].describe()"
   ]
  },
  {
   "cell_type": "code",
   "execution_count": 566,
   "id": "b6717a83",
   "metadata": {},
   "outputs": [
    {
     "data": {
      "text/plain": [
       "count    4003.000000\n",
       "mean        0.291376\n",
       "std         0.475276\n",
       "min        -0.998200\n",
       "25%         0.000000\n",
       "50%         0.253400\n",
       "75%         0.748950\n",
       "max         0.999800\n",
       "Name: sentiment_score, dtype: float64"
      ]
     },
     "execution_count": 566,
     "metadata": {},
     "output_type": "execute_result"
    }
   ],
   "source": [
    "sustainability['sentiment_score'].describe()"
   ]
  },
  {
   "cell_type": "code",
   "execution_count": 567,
   "id": "1721b9a0",
   "metadata": {},
   "outputs": [
    {
     "data": {
      "image/png": "[encoded data removed]",
      "text/plain": [
       "<Figure size 864x432 with 1 Axes>"
      ]
     },
     "metadata": {
      "needs_background": "light"
     },
     "output_type": "display_data"
    }
   ],
   "source": [
    "plt.figure(figsize=(12,6))\n",
    "plt.hist(climatechange['sentiment_score'], color ='orange', label='Climate Change', alpha = 0.8, bins=25)\n",
    "plt.hist(sustainability['sentiment_score'], color ='skyblue', label='Sustainability', alpha = 0.5, bins=25)\n",
    "plt.xlabel('Sentiment Score', fontdict= {'fontsize':14})\n",
    "plt.ylabel('Frequency', fontdict= {'fontsize':14})\n",
    "plt.title('Distribution of Sentiment Analysis', fontdict = {'fontsize':16})\n",
    "plt.legend()\n",
    "plt.tight_layout();"
   ]
  },
  {
   "cell_type": "code",
   "execution_count": 568,
   "id": "a1f8ff83",
   "metadata": {},
   "outputs": [
    {
     "data": {
      "image/png": "[encoded data removed]",
      "text/plain": [
       "<Figure size 720x576 with 1 Axes>"
      ]
     },
     "metadata": {
      "needs_background": "light"
     },
     "output_type": "display_data"
    }
   ],
   "source": [
    "#Here I want to get a better picture of the distribution of Sentiment score across both subreddits\n",
    "#as the boxplot show the sustainability subreddit present a slightly more positve score distribution\n",
    "plt.figure(figsize=(10,8))\n",
    "ax = plt.subplot()\n",
    "ax = sns.boxplot(x=\"subreddit\", y=\"sentiment_score\",  \n",
    "                 data=df_new, palette=\"ocean\", linewidth=2, orient='v', \n",
    "                 medianprops=dict(color=\"orange\", alpha=1))\n",
    "ax.set_xlabel('Subreddit', fontdict= {'fontsize':14})\n",
    "ax.set_ylabel('Sentiment Score', fontdict= {'fontsize':14})\n",
    "ax.set_xticklabels(['Climate Change', 'Sustainability'], fontdict= {'fontsize':12})\n",
    "ax.set_title('Distribution of Sentiment Analysis Scores', fontdict = {'fontsize':16})\n",
    "plt.tight_layout();\n",
    "plt.savefig(('../images/sentiment_distribution.png'), bbox_inches=\"tight\", dpi=100)"
   ]
  },
  {
   "cell_type": "code",
   "execution_count": 569,
   "id": "b0529362",
   "metadata": {},
   "outputs": [],
   "source": [
    "#saving the new dataframe that I will be using for modeling\n",
    "df_new.to_csv('../data/reddits_cleaned_sentiment.csv', index=False)"
   ]
  }
 ],
 "metadata": {
  "kernelspec": {
   "display_name": "Python 3 (ipykernel)",
   "language": "python",
   "name": "python3"
  },
  "language_info": {
   "codemirror_mode": {
    "name": "ipython",
    "version": 3
   },
   "file_extension": ".py",
   "mimetype": "text/x-python",
   "name": "python",
   "nbconvert_exporter": "python",
   "pygments_lexer": "ipython3",
   "version": "3.9.7"
  }
 },
 "nbformat": 4,
 "nbformat_minor": 5
}
