{
 "cells": [
  {
   "cell_type": "markdown",
   "id": "cb5154b4",
   "metadata": {},
   "source": [
    "## Part 4 - RandomForest Classifier"
   ]
  },
  {
   "cell_type": "markdown",
   "id": "8ad175ff",
   "metadata": {},
   "source": [
    "In this jupyter notebook I will be feeding the data that are coming from Part 2 into a Random Forest classifier, to predict whether a post is coming either from the sustainability or climate change subreddit. More precisely, there will be two different models:i) the first one is using only the words that are coming from the title_selftext column; ii) the second one instead will be adding the sentiment score. The goal is to see if the sentiment detected in the different texts can improve to the accuracy score of the classifier model"
   ]
  },
  {
   "cell_type": "markdown",
   "id": "ab83255e",
   "metadata": {},
   "source": [
    "### Section 1 - Library and Data Import"
   ]
  },
  {
   "cell_type": "code",
   "execution_count": 33,
   "id": "8a0e6860",
   "metadata": {},
   "outputs": [],
   "source": [
    "import pandas as pd\n",
    "import numpy as np\n",
    "import matplotlib.pyplot as plt\n",
    "import seaborn as sns\n",
    "import re\n",
    "\n",
    "\n",
    "from sklearn.ensemble import RandomForestClassifier\n",
    "from sklearn.feature_extraction.text import CountVectorizer\n",
    "from sklearn.pipeline import Pipeline\n",
    "from sklearn.model_selection import train_test_split,  cross_val_score,  RandomizedSearchCV\n",
    "from sklearn.metrics import plot_confusion_matrix, confusion_matrix\n",
    "from sklearn.preprocessing import FunctionTransformer\n",
    "import pprint as pp\n",
    "\n",
    "from sklearn.pipeline import FeatureUnion\n",
    "import sklearn.metrics as metrics\n",
    "\n"
   ]
  },
  {
   "cell_type": "code",
   "execution_count": 34,
   "id": "31223451",
   "metadata": {},
   "outputs": [],
   "source": [
    "df = pd.read_csv('../data/reddits_cleaned_sentiment.csv')"
   ]
  },
  {
   "cell_type": "code",
   "execution_count": 35,
   "id": "7d19f2f2",
   "metadata": {},
   "outputs": [
    {
     "data": {
      "text/html": [
       "<div>\n",
       "<style scoped>\n",
       "    .dataframe tbody tr th:only-of-type {\n",
       "        vertical-align: middle;\n",
       "    }\n",
       "\n",
       "    .dataframe tbody tr th {\n",
       "        vertical-align: top;\n",
       "    }\n",
       "\n",
       "    .dataframe thead th {\n",
       "        text-align: right;\n",
       "    }\n",
       "</style>\n",
       "<table border=\"1\" class=\"dataframe\">\n",
       "  <thead>\n",
       "    <tr style=\"text-align: right;\">\n",
       "      <th></th>\n",
       "      <th>subreddit</th>\n",
       "      <th>title_selftext</th>\n",
       "      <th>sentiment_score</th>\n",
       "    </tr>\n",
       "  </thead>\n",
       "  <tbody>\n",
       "    <tr>\n",
       "      <th>0</th>\n",
       "      <td>1</td>\n",
       "      <td>why does many big crop starting to have sustai...</td>\n",
       "      <td>0.0</td>\n",
       "    </tr>\n",
       "    <tr>\n",
       "      <th>1</th>\n",
       "      <td>1</td>\n",
       "      <td>use new phone for 5 years or refurbished phone...</td>\n",
       "      <td>0.0</td>\n",
       "    </tr>\n",
       "  </tbody>\n",
       "</table>\n",
       "</div>"
      ],
      "text/plain": [
       "   subreddit                                     title_selftext  \\\n",
       "0          1  why does many big crop starting to have sustai...   \n",
       "1          1  use new phone for 5 years or refurbished phone...   \n",
       "\n",
       "   sentiment_score  \n",
       "0              0.0  \n",
       "1              0.0  "
      ]
     },
     "execution_count": 35,
     "metadata": {},
     "output_type": "execute_result"
    }
   ],
   "source": [
    "#checking first 2 rows\n",
    "df.head(2) "
   ]
  },
  {
   "cell_type": "markdown",
   "id": "313ba494",
   "metadata": {},
   "source": [
    "### Section 2 - Random Forest Classifier"
   ]
  },
  {
   "cell_type": "markdown",
   "id": "e4d901c1",
   "metadata": {},
   "source": [
    "There are only two different things that I will be using in both model and that I want to include in this section:i)the null model; ii) a common stop_words hyperparameter"
   ]
  },
  {
   "cell_type": "code",
   "execution_count": 36,
   "id": "2774063b",
   "metadata": {},
   "outputs": [
    {
     "data": {
      "text/plain": [
       "1    0.500438\n",
       "0    0.499562\n",
       "Name: subreddit, dtype: float64"
      ]
     },
     "execution_count": 36,
     "metadata": {},
     "output_type": "execute_result"
    }
   ],
   "source": [
    "#The Null Model\n",
    "null_model = df['subreddit'].value_counts(normalize=True)\n",
    "#Baseline Accuracy\n",
    "null_model"
   ]
  },
  {
   "cell_type": "code",
   "execution_count": 37,
   "id": "4d8d09e9",
   "metadata": {},
   "outputs": [
    {
     "data": {
      "image/png": "[encoded data removed]",
      "text/plain": [
       "<Figure size 864x432 with 1 Axes>"
      ]
     },
     "metadata": {
      "needs_background": "light"
     },
     "output_type": "display_data"
    }
   ],
   "source": [
    "plt.figure(figsize=(12,6))\n",
    "x = range(len(null_model.reset_index()))\n",
    "y = null_model.reset_index().loc[:,'subreddit']\n",
    "plt.bar(x,y, color='skyblue')\n",
    "ax = plt.subplot()\n",
    "ax.set_xticks(x)\n",
    "ax.set_xticklabels(['Climate Change', 'Sustainability'], fontdict= {'fontsize':12})\n",
    "ax.set_xlabel('Subreddit', fontdict= {'fontsize':14})\n",
    "ax.set_ylabel('Baseline Accuracy', fontdict= {'fontsize':14})\n",
    "ax.set_title('The Null Model', fontdict = {'fontsize':16})\n",
    "plt.tight_layout();\n",
    "plt.savefig(('../images/null_model.png'))"
   ]
  },
  {
   "cell_type": "code",
   "execution_count": 38,
   "id": "bf45d020",
   "metadata": {},
   "outputs": [],
   "source": [
    "#Here I am creating a new stop_words vocabulary for both models\n",
    "cvec = CountVectorizer(stop_words='english')\n",
    "stop_words = list(cvec.get_stop_words())\n",
    "lst = ['help','com' ,'have','ve' ,\"does\", 'know', \"don\", 'want', 'website', 'row', 'let', 'hey', 'guys', \n",
    "       'like', 'hey', 'place', 'http', 'www', 'bytes', 'think', \"don't\", \"doesn't\", \"does\", 'just', \n",
    "       'people', 'use',\"i've\", 'hi', 'need', 'doesn']\n",
    "\n",
    "stop_words = stop_words + lst"
   ]
  },
  {
   "cell_type": "markdown",
   "id": "6aac8136",
   "metadata": {},
   "source": [
    "### Section 2.1 - Random Forest without Sentiment Analysis"
   ]
  },
  {
   "cell_type": "markdown",
   "id": "308a47ab",
   "metadata": {},
   "source": [
    "**Step 1** Assembling Predictors, Target and train_test_split\n"
   ]
  },
  {
   "cell_type": "code",
   "execution_count": 39,
   "id": "282f6654",
   "metadata": {},
   "outputs": [],
   "source": [
    "X = df['title_selftext']\n",
    "y = df['subreddit']\n",
    "\n",
    "X_train, X_test, y_train, y_test = train_test_split(X,\n",
    "                                                    y,\n",
    "                                                    random_state=42)"
   ]
  },
  {
   "cell_type": "markdown",
   "id": "8ad1450c",
   "metadata": {},
   "source": [
    "**Step 2** Instantiate and fitting the Pipeline  "
   ]
  },
  {
   "cell_type": "code",
   "execution_count": 40,
   "id": "7b421cab",
   "metadata": {},
   "outputs": [
    {
     "data": {
      "text/plain": [
       "Pipeline(steps=[('vect', CountVectorizer()),\n",
       "                ('forest', RandomForestClassifier())])"
      ]
     },
     "execution_count": 40,
     "metadata": {},
     "output_type": "execute_result"
    }
   ],
   "source": [
    "# Instantiate a pipeline\n",
    "pipe = Pipeline([\n",
    "    ('vect', CountVectorizer()),\n",
    "    ('forest', RandomForestClassifier())\n",
    "])\n",
    "\n",
    "#fitting the pipe\n",
    "pipe.fit(X_train, y_train)"
   ]
  },
  {
   "cell_type": "code",
   "execution_count": 41,
   "id": "597db730",
   "metadata": {},
   "outputs": [
    {
     "data": {
      "text/plain": [
       "(0.9948324720786798, 0.808, 0.8084669168751738)"
      ]
     },
     "execution_count": 41,
     "metadata": {},
     "output_type": "execute_result"
    }
   ],
   "source": [
    "#Checking at my train, test, cross val score\n",
    "pipe.score(X_train,y_train), pipe.score(X_test,y_test), cross_val_score(pipe,X_train,y_train ).mean()"
   ]
  },
  {
   "cell_type": "markdown",
   "id": "c7b3cd59",
   "metadata": {},
   "source": [
    "**Step 3** Instantiate and Fitting RandomizedSearchCV"
   ]
  },
  {
   "cell_type": "code",
   "execution_count": 42,
   "id": "d99f4131",
   "metadata": {},
   "outputs": [
    {
     "data": {
      "text/plain": [
       "RandomizedSearchCV(estimator=Pipeline(steps=[('vect', CountVectorizer()),\n",
       "                                             ('forest',\n",
       "                                              RandomForestClassifier())]),\n",
       "                   param_distributions={'forest__ccp_alpha': [0.0, 0.1, 0.3],\n",
       "                                        'forest__max_depth': [None, 3, 5],\n",
       "                                        'forest__max_features': ['auto', 3, 5],\n",
       "                                        'forest__min_samples_leaf': [1, 2, 3],\n",
       "                                        'forest__min_samples_split': [2, 3, 4],\n",
       "                                        'vect__binary': [True, False],\n",
       "                                        'vect__max_df': [1.0...\n",
       "                                        'vect__min_df': [1, 2, 3, 4, 5, 6, 7, 8,\n",
       "                                                         9],\n",
       "                                        'vect__ngram_range': [(1, 1), (1, 2)],\n",
       "                                        'vect__stop_words': [['within', 'is',\n",
       "                                                              'seeming', 'very',\n",
       "                                                              'empty',\n",
       "                                                              'afterwards',\n",
       "                                                              'noone', 'such',\n",
       "                                                              'nobody',\n",
       "                                                              'without',\n",
       "                                                              'about',\n",
       "                                                              'becomes', 'fire',\n",
       "                                                              'here', 'whoever',\n",
       "                                                              'beforehand',\n",
       "                                                              'on', 'eight',\n",
       "                                                              'hereby',\n",
       "                                                              'becoming', 'per',\n",
       "                                                              'show', 'whose',\n",
       "                                                              'least', 'one',\n",
       "                                                              'every', 'beside',\n",
       "                                                              'who', 'twenty',\n",
       "                                                              'find', ...]]},\n",
       "                   random_state=430, scoring='accuracy')"
      ]
     },
     "execution_count": 42,
     "metadata": {},
     "output_type": "execute_result"
    }
   ],
   "source": [
    "#First off, I want to define the parameters for the models established within the pipeline \n",
    "params = {\n",
    "    'vect__stop_words':[stop_words],\n",
    "    'vect__min_df': list(range(1,10)),\n",
    "    'vect__max_df': [1.0, .75, .5],\n",
    "    'vect__binary': [True, False],\n",
    "    'vect__ngram_range': [(1,1), (1,2)], \n",
    "    'vect__max_features': [1_000, 2_000],\n",
    "    'forest__min_samples_split': [2,3,4],\n",
    "    'forest__min_samples_leaf':[1,2,3],\n",
    "    'forest__max_depth':[None, 3,5],\n",
    "    'forest__max_features':['auto',3,5],\n",
    "    'forest__ccp_alpha':[0.0,0.1,0.3]\n",
    "    \n",
    "}\n",
    "\n",
    "#Instantiating GridSearch with pipe and parameters established before\n",
    "#setting up a random state to ensure replicability of results\n",
    "rs = RandomizedSearchCV(pipe, params, scoring='accuracy', n_iter=10, random_state=430)\n",
    "\n",
    "#Fitting the GridSearch\n",
    "rs.fit(X_train, y_train)"
   ]
  },
  {
   "cell_type": "code",
   "execution_count": 43,
   "id": "a20e20ba",
   "metadata": {},
   "outputs": [
    {
     "data": {
      "text/plain": [
       "0.8148051153739226"
      ]
     },
     "execution_count": 43,
     "metadata": {},
     "output_type": "execute_result"
    }
   ],
   "source": [
    "#Taking a look at cross val score\n",
    "rs.best_score_"
   ]
  },
  {
   "cell_type": "code",
   "execution_count": 44,
   "id": "4b7caed8",
   "metadata": {},
   "outputs": [
    {
     "data": {
      "text/plain": [
       "{'vect__stop_words': ['within',\n",
       "  'is',\n",
       "  'seeming',\n",
       "  'very',\n",
       "  'empty',\n",
       "  'afterwards',\n",
       "  'noone',\n",
       "  'such',\n",
       "  'nobody',\n",
       "  'without',\n",
       "  'about',\n",
       "  'becomes',\n",
       "  'fire',\n",
       "  'here',\n",
       "  'whoever',\n",
       "  'beforehand',\n",
       "  'on',\n",
       "  'eight',\n",
       "  'hereby',\n",
       "  'becoming',\n",
       "  'per',\n",
       "  'show',\n",
       "  'whose',\n",
       "  'least',\n",
       "  'one',\n",
       "  'every',\n",
       "  'beside',\n",
       "  'who',\n",
       "  'twenty',\n",
       "  'find',\n",
       "  'also',\n",
       "  'ltd',\n",
       "  'alone',\n",
       "  'therein',\n",
       "  'twelve',\n",
       "  'as',\n",
       "  'however',\n",
       "  'other',\n",
       "  'seem',\n",
       "  'namely',\n",
       "  'since',\n",
       "  'she',\n",
       "  'though',\n",
       "  'found',\n",
       "  'three',\n",
       "  'next',\n",
       "  'before',\n",
       "  'do',\n",
       "  'give',\n",
       "  'wherever',\n",
       "  'thereby',\n",
       "  'fifty',\n",
       "  'hundred',\n",
       "  'seems',\n",
       "  'thin',\n",
       "  'sincere',\n",
       "  'describe',\n",
       "  'many',\n",
       "  'system',\n",
       "  'two',\n",
       "  'now',\n",
       "  'were',\n",
       "  'me',\n",
       "  'can',\n",
       "  'few',\n",
       "  'formerly',\n",
       "  'ten',\n",
       "  'this',\n",
       "  'its',\n",
       "  'seemed',\n",
       "  'any',\n",
       "  'no',\n",
       "  'eg',\n",
       "  'amount',\n",
       "  'which',\n",
       "  'neither',\n",
       "  'upon',\n",
       "  'into',\n",
       "  'has',\n",
       "  'mill',\n",
       "  'thereafter',\n",
       "  'first',\n",
       "  'both',\n",
       "  'some',\n",
       "  'towards',\n",
       "  'front',\n",
       "  'same',\n",
       "  'cannot',\n",
       "  'wherein',\n",
       "  'against',\n",
       "  'hereafter',\n",
       "  'none',\n",
       "  'often',\n",
       "  'behind',\n",
       "  'until',\n",
       "  'his',\n",
       "  'although',\n",
       "  'thick',\n",
       "  'well',\n",
       "  'become',\n",
       "  'again',\n",
       "  'put',\n",
       "  'part',\n",
       "  'whereby',\n",
       "  'con',\n",
       "  'go',\n",
       "  'only',\n",
       "  'cant',\n",
       "  'had',\n",
       "  'it',\n",
       "  'whence',\n",
       "  'amoungst',\n",
       "  'was',\n",
       "  'most',\n",
       "  'be',\n",
       "  'not',\n",
       "  'still',\n",
       "  'those',\n",
       "  'six',\n",
       "  'ie',\n",
       "  'above',\n",
       "  'via',\n",
       "  'anyone',\n",
       "  'full',\n",
       "  'therefore',\n",
       "  'anywhere',\n",
       "  'thereupon',\n",
       "  'been',\n",
       "  'became',\n",
       "  'third',\n",
       "  'forty',\n",
       "  'moreover',\n",
       "  'everywhere',\n",
       "  'could',\n",
       "  'mostly',\n",
       "  'due',\n",
       "  'your',\n",
       "  'less',\n",
       "  'eleven',\n",
       "  'sometimes',\n",
       "  'under',\n",
       "  'whatever',\n",
       "  'and',\n",
       "  'fifteen',\n",
       "  'nor',\n",
       "  'her',\n",
       "  'herself',\n",
       "  'everything',\n",
       "  'besides',\n",
       "  'name',\n",
       "  'these',\n",
       "  'anything',\n",
       "  'what',\n",
       "  'keep',\n",
       "  'hasnt',\n",
       "  'during',\n",
       "  'meanwhile',\n",
       "  'everyone',\n",
       "  'but',\n",
       "  'back',\n",
       "  'myself',\n",
       "  'from',\n",
       "  'there',\n",
       "  'de',\n",
       "  'sixty',\n",
       "  'etc',\n",
       "  'may',\n",
       "  'elsewhere',\n",
       "  'amongst',\n",
       "  'if',\n",
       "  'nine',\n",
       "  'hers',\n",
       "  'of',\n",
       "  'whither',\n",
       "  'several',\n",
       "  'enough',\n",
       "  'while',\n",
       "  'down',\n",
       "  'around',\n",
       "  'sometime',\n",
       "  'then',\n",
       "  'five',\n",
       "  'whereas',\n",
       "  'whereupon',\n",
       "  'how',\n",
       "  'last',\n",
       "  'yet',\n",
       "  'have',\n",
       "  'whenever',\n",
       "  'all',\n",
       "  'interest',\n",
       "  'see',\n",
       "  'latter',\n",
       "  'so',\n",
       "  'after',\n",
       "  'than',\n",
       "  'thence',\n",
       "  'along',\n",
       "  'my',\n",
       "  'throughout',\n",
       "  'he',\n",
       "  'anyway',\n",
       "  'would',\n",
       "  'for',\n",
       "  'at',\n",
       "  'bill',\n",
       "  'in',\n",
       "  'beyond',\n",
       "  'rather',\n",
       "  'with',\n",
       "  'why',\n",
       "  'please',\n",
       "  'another',\n",
       "  'mine',\n",
       "  'thus',\n",
       "  'indeed',\n",
       "  'nevertheless',\n",
       "  'own',\n",
       "  'nowhere',\n",
       "  'inc',\n",
       "  'off',\n",
       "  'ever',\n",
       "  'somehow',\n",
       "  'done',\n",
       "  'further',\n",
       "  'whereafter',\n",
       "  'by',\n",
       "  'whole',\n",
       "  'them',\n",
       "  'once',\n",
       "  'others',\n",
       "  'else',\n",
       "  'hereupon',\n",
       "  'an',\n",
       "  'below',\n",
       "  'cry',\n",
       "  'someone',\n",
       "  'made',\n",
       "  'top',\n",
       "  'couldnt',\n",
       "  'yourselves',\n",
       "  'un',\n",
       "  'much',\n",
       "  'they',\n",
       "  'each',\n",
       "  'yourself',\n",
       "  'ours',\n",
       "  'through',\n",
       "  'call',\n",
       "  'where',\n",
       "  'serious',\n",
       "  'detail',\n",
       "  'being',\n",
       "  'except',\n",
       "  'up',\n",
       "  'to',\n",
       "  'him',\n",
       "  'side',\n",
       "  'take',\n",
       "  'should',\n",
       "  'that',\n",
       "  'thru',\n",
       "  'might',\n",
       "  'always',\n",
       "  'otherwise',\n",
       "  'nothing',\n",
       "  'almost',\n",
       "  'anyhow',\n",
       "  'or',\n",
       "  'because',\n",
       "  'onto',\n",
       "  'herein',\n",
       "  'fill',\n",
       "  'i',\n",
       "  'will',\n",
       "  'themselves',\n",
       "  'the',\n",
       "  'whom',\n",
       "  'am',\n",
       "  'toward',\n",
       "  'together',\n",
       "  'are',\n",
       "  'across',\n",
       "  'something',\n",
       "  'itself',\n",
       "  'ourselves',\n",
       "  'get',\n",
       "  'must',\n",
       "  'either',\n",
       "  'himself',\n",
       "  'a',\n",
       "  'we',\n",
       "  'out',\n",
       "  'co',\n",
       "  'more',\n",
       "  'yours',\n",
       "  'never',\n",
       "  'you',\n",
       "  'between',\n",
       "  'hence',\n",
       "  'whether',\n",
       "  'bottom',\n",
       "  'even',\n",
       "  'already',\n",
       "  'move',\n",
       "  'when',\n",
       "  'latterly',\n",
       "  'too',\n",
       "  'over',\n",
       "  'among',\n",
       "  're',\n",
       "  'four',\n",
       "  'their',\n",
       "  'former',\n",
       "  'our',\n",
       "  'perhaps',\n",
       "  'somewhere',\n",
       "  'us',\n",
       "  'help',\n",
       "  'com',\n",
       "  'have',\n",
       "  've',\n",
       "  'does',\n",
       "  'know',\n",
       "  'don',\n",
       "  'want',\n",
       "  'website',\n",
       "  'row',\n",
       "  'let',\n",
       "  'hey',\n",
       "  'guys',\n",
       "  'like',\n",
       "  'hey',\n",
       "  'place',\n",
       "  'http',\n",
       "  'www',\n",
       "  'bytes',\n",
       "  'think',\n",
       "  \"don't\",\n",
       "  \"doesn't\",\n",
       "  'does',\n",
       "  'just',\n",
       "  'people',\n",
       "  'use',\n",
       "  \"i've\",\n",
       "  'hi',\n",
       "  'need',\n",
       "  'doesn'],\n",
       " 'vect__ngram_range': (1, 2),\n",
       " 'vect__min_df': 6,\n",
       " 'vect__max_features': 1000,\n",
       " 'vect__max_df': 0.75,\n",
       " 'vect__binary': True,\n",
       " 'forest__min_samples_split': 4,\n",
       " 'forest__min_samples_leaf': 2,\n",
       " 'forest__max_features': 'auto',\n",
       " 'forest__max_depth': None,\n",
       " 'forest__ccp_alpha': 0.0}"
      ]
     },
     "execution_count": 44,
     "metadata": {},
     "output_type": "execute_result"
    }
   ],
   "source": [
    "#Taking a look at best parameters\n",
    "rs.best_params_"
   ]
  },
  {
   "cell_type": "markdown",
   "id": "89d21f84",
   "metadata": {},
   "source": [
    "**Step 4** Model Evaluation"
   ]
  },
  {
   "cell_type": "code",
   "execution_count": 45,
   "id": "98561fe0",
   "metadata": {},
   "outputs": [
    {
     "data": {
      "text/plain": [
       "<sklearn.metrics._plot.confusion_matrix.ConfusionMatrixDisplay at 0x7fef82c11130>"
      ]
     },
     "execution_count": 45,
     "metadata": {},
     "output_type": "execute_result"
    },
    {
     "data": {
      "image/png": "[encoded data removed]",
      "text/plain": [
       "<Figure size 432x288 with 2 Axes>"
      ]
     },
     "metadata": {
      "needs_background": "light"
     },
     "output_type": "display_data"
    }
   ],
   "source": [
    "# I want to first take a look at my confusion matrix\n",
    "plot_confusion_matrix(rs, X_test, y_test, display_labels=['sustainability', 'climatechange'], \n",
    "                      cmap='Blues')"
   ]
  },
  {
   "cell_type": "code",
   "execution_count": 46,
   "id": "f62abab0",
   "metadata": {},
   "outputs": [
    {
     "data": {
      "text/plain": [
       "(0.8463054187192118, 0.7868020304568528, 0.817, 0.80355472404116)"
      ]
     },
     "execution_count": 46,
     "metadata": {},
     "output_type": "execute_result"
    }
   ],
   "source": [
    "# Source: this graph is coming from class classification metrics II\n",
    "#looking at the predictions\n",
    "preds = rs.predict(X_test)\n",
    "\n",
    "#identifying values of my confusion matrix \n",
    "tn, fp, fn, tp = metrics.confusion_matrix(y_test, preds).ravel()\n",
    "\n",
    "# calculating sensitivity, specificity and overall accuracy\n",
    "sensitivity = tp/(tp+fn)\n",
    "specificity = tn/(tn+fp)\n",
    "accuracy = (tp+tn)/(tp+tn+fn+fp)\n",
    "precision = (tp)/(tp+fp)\n",
    "#printing results\n",
    "sensitivity, specificity, accuracy, precision"
   ]
  },
  {
   "cell_type": "code",
   "execution_count": 47,
   "id": "0679ddbd",
   "metadata": {},
   "outputs": [
    {
     "data": {
      "text/plain": [
       "0.8988937510939962"
      ]
     },
     "execution_count": 47,
     "metadata": {},
     "output_type": "execute_result"
    }
   ],
   "source": [
    "#calculating ROC AUC Score\n",
    "probs = rs.predict_proba(X_test)[:,1]\n",
    "metrics.roc_auc_score(y_test, probs)"
   ]
  },
  {
   "cell_type": "code",
   "execution_count": 48,
   "id": "865c32a6",
   "metadata": {},
   "outputs": [
    {
     "data": {
      "text/plain": [
       "<matplotlib.legend.Legend at 0x7fef8423bd90>"
      ]
     },
     "execution_count": 48,
     "metadata": {},
     "output_type": "execute_result"
    },
    {
     "data": {
      "image/png": "[encoded data removed]",
      "text/plain": [
       "<Figure size 432x288 with 1 Axes>"
      ]
     },
     "metadata": {
      "needs_background": "light"
     },
     "output_type": "display_data"
    }
   ],
   "source": [
    "# Source: this graph is coming from class classification metrics II\n",
    "# I want to visualize the false positive rate against the true positive rate\n",
    "metrics.plot_roc_curve(rs, X_test, y_test)\n",
    "plt.plot([0,1], [0,1], color ='orange', label ='Baseline')\n",
    "plt.legend()"
   ]
  },
  {
   "cell_type": "code",
   "execution_count": 49,
   "id": "1162d027",
   "metadata": {},
   "outputs": [
    {
     "name": "stderr",
     "output_type": "stream",
     "text": [
      "/Users/filoradice/opt/anaconda3/lib/python3.9/site-packages/seaborn/distributions.py:2619: FutureWarning: `distplot` is a deprecated function and will be removed in a future version. Please adapt your code to use either `displot` (a figure-level function with similar flexibility) or `histplot` (an axes-level function for histograms).\n",
      "  warnings.warn(msg, FutureWarning)\n"
     ]
    },
    {
     "data": {
      "image/png": "[encoded data removed]",
      "text/plain": [
       "<Figure size 864x360 with 1 Axes>"
      ]
     },
     "metadata": {
      "needs_background": "light"
     },
     "output_type": "display_data"
    }
   ],
   "source": [
    "# Source: this graph is coming from class classification metrics II\n",
    "df_probs = pd.DataFrame({'true_values': y_test, 'preds_prob':probs})\n",
    "plt.figure(figsize = (12, 5))\n",
    "\n",
    "# plot distributions of predicted probabilities by actual values\n",
    "for group in df_probs.groupby('true_values'):\n",
    "    sns.distplot(group[1], kde = False, bins = 20, label = f'Actual Outcome = {group[0]}')\n",
    "# Add cutoff line\n",
    "plt.axvline(.5, color='r')\n",
    "\n",
    "plt.xlabel('Predicted Probability that Outcome = 1')\n",
    "plt.legend();"
   ]
  },
  {
   "cell_type": "markdown",
   "id": "7aa86884",
   "metadata": {},
   "source": [
    "### Section 2.2 - Random Forest with Sentiment Analysis"
   ]
  },
  {
   "cell_type": "markdown",
   "id": "8a6d8805",
   "metadata": {},
   "source": [
    "**Step 1** Assembling Predictors, Target and train_test_split"
   ]
  },
  {
   "cell_type": "code",
   "execution_count": 50,
   "id": "764829a1",
   "metadata": {},
   "outputs": [],
   "source": [
    "X = df.drop(columns=['subreddit'])\n",
    "y = df['subreddit']\n",
    "\n",
    "X_train, X_test, y_train, y_test = train_test_split(X,\n",
    "                                                    y,\n",
    "                                                    random_state=42)\n"
   ]
  },
  {
   "cell_type": "markdown",
   "id": "903017d6",
   "metadata": {},
   "source": [
    "**Step 2** Transforming predictors; instantiating two  separate Pipelines "
   ]
  },
  {
   "cell_type": "code",
   "execution_count": 51,
   "id": "91a6a2b1",
   "metadata": {},
   "outputs": [],
   "source": [
    "# all functions below and everything related to feature union comes from Professor Riley Dallas"
   ]
  },
  {
   "cell_type": "code",
   "execution_count": 52,
   "id": "49d8672a",
   "metadata": {},
   "outputs": [],
   "source": [
    "def get_title(df):\n",
    "    return df['title_selftext']\n",
    "\n",
    "get_title_transformer = FunctionTransformer(get_title, validate=False)"
   ]
  },
  {
   "cell_type": "code",
   "execution_count": 53,
   "id": "0d686dff",
   "metadata": {},
   "outputs": [],
   "source": [
    "def get_other_col(df):\n",
    "    return df[['sentiment_score']]\n",
    "get_col_transformer = FunctionTransformer(get_other_col, validate=False)"
   ]
  },
  {
   "cell_type": "code",
   "execution_count": 54,
   "id": "0ce1d518",
   "metadata": {},
   "outputs": [],
   "source": [
    "pipe_cv = Pipeline([\n",
    "    ('title_transform', get_title_transformer),\n",
    "    ('vect', CountVectorizer())\n",
    "])\n"
   ]
  },
  {
   "cell_type": "code",
   "execution_count": 55,
   "id": "787b8a12",
   "metadata": {},
   "outputs": [],
   "source": [
    "pipe_model = Pipeline([\n",
    "    ('feats', FeatureUnion([\n",
    "        ('vect_pipe', pipe_cv),\n",
    "        ('other_cols', get_col_transformer)\n",
    "    ])),\n",
    "    ('forest', RandomForestClassifier())\n",
    "])"
   ]
  },
  {
   "cell_type": "markdown",
   "id": "7d30fc94",
   "metadata": {},
   "source": [
    "**Step 3** Instantiate and Fitting RandomizedSearchCV"
   ]
  },
  {
   "cell_type": "code",
   "execution_count": 56,
   "id": "da6cf9d1",
   "metadata": {},
   "outputs": [
    {
     "name": "stdout",
     "output_type": "stream",
     "text": [
      "['feats',\n",
      " 'feats__n_jobs',\n",
      " 'feats__other_cols',\n",
      " 'feats__other_cols__accept_sparse',\n",
      " 'feats__other_cols__check_inverse',\n",
      " 'feats__other_cols__func',\n",
      " 'feats__other_cols__inv_kw_args',\n",
      " 'feats__other_cols__inverse_func',\n",
      " 'feats__other_cols__kw_args',\n",
      " 'feats__other_cols__validate',\n",
      " 'feats__transformer_list',\n",
      " 'feats__transformer_weights',\n",
      " 'feats__vect_pipe',\n",
      " 'feats__vect_pipe__memory',\n",
      " 'feats__vect_pipe__steps',\n",
      " 'feats__vect_pipe__title_transform',\n",
      " 'feats__vect_pipe__title_transform__accept_sparse',\n",
      " 'feats__vect_pipe__title_transform__check_inverse',\n",
      " 'feats__vect_pipe__title_transform__func',\n",
      " 'feats__vect_pipe__title_transform__inv_kw_args',\n",
      " 'feats__vect_pipe__title_transform__inverse_func',\n",
      " 'feats__vect_pipe__title_transform__kw_args',\n",
      " 'feats__vect_pipe__title_transform__validate',\n",
      " 'feats__vect_pipe__vect',\n",
      " 'feats__vect_pipe__vect__analyzer',\n",
      " 'feats__vect_pipe__vect__binary',\n",
      " 'feats__vect_pipe__vect__decode_error',\n",
      " 'feats__vect_pipe__vect__dtype',\n",
      " 'feats__vect_pipe__vect__encoding',\n",
      " 'feats__vect_pipe__vect__input',\n",
      " 'feats__vect_pipe__vect__lowercase',\n",
      " 'feats__vect_pipe__vect__max_df',\n",
      " 'feats__vect_pipe__vect__max_features',\n",
      " 'feats__vect_pipe__vect__min_df',\n",
      " 'feats__vect_pipe__vect__ngram_range',\n",
      " 'feats__vect_pipe__vect__preprocessor',\n",
      " 'feats__vect_pipe__vect__stop_words',\n",
      " 'feats__vect_pipe__vect__strip_accents',\n",
      " 'feats__vect_pipe__vect__token_pattern',\n",
      " 'feats__vect_pipe__vect__tokenizer',\n",
      " 'feats__vect_pipe__vect__vocabulary',\n",
      " 'feats__vect_pipe__verbose',\n",
      " 'feats__verbose',\n",
      " 'forest',\n",
      " 'forest__bootstrap',\n",
      " 'forest__ccp_alpha',\n",
      " 'forest__class_weight',\n",
      " 'forest__criterion',\n",
      " 'forest__max_depth',\n",
      " 'forest__max_features',\n",
      " 'forest__max_leaf_nodes',\n",
      " 'forest__max_samples',\n",
      " 'forest__min_impurity_decrease',\n",
      " 'forest__min_impurity_split',\n",
      " 'forest__min_samples_leaf',\n",
      " 'forest__min_samples_split',\n",
      " 'forest__min_weight_fraction_leaf',\n",
      " 'forest__n_estimators',\n",
      " 'forest__n_jobs',\n",
      " 'forest__oob_score',\n",
      " 'forest__random_state',\n",
      " 'forest__verbose',\n",
      " 'forest__warm_start',\n",
      " 'memory',\n",
      " 'steps',\n",
      " 'verbose']\n"
     ]
    }
   ],
   "source": [
    "#checking at how should I call pipes's parameters\n",
    "pp.pprint(sorted(pipe_model.get_params().keys()))"
   ]
  },
  {
   "cell_type": "code",
   "execution_count": 57,
   "id": "1827d04f",
   "metadata": {},
   "outputs": [
    {
     "data": {
      "text/plain": [
       "RandomizedSearchCV(estimator=Pipeline(steps=[('feats',\n",
       "                                              FeatureUnion(transformer_list=[('vect_pipe',\n",
       "                                                                              Pipeline(steps=[('title_transform',\n",
       "                                                                                               FunctionTransformer(func=<function get_title at 0x7fef86164af0>)),\n",
       "                                                                                              ('vect',\n",
       "                                                                                               CountVectorizer())])),\n",
       "                                                                             ('other_cols',\n",
       "                                                                              FunctionTransformer(func=<function get_other_col at 0x7fef86164ca0>))])),\n",
       "                                             ('forest',\n",
       "                                              RandomForestClassifier())]),\n",
       "                   pa...\n",
       "                                                                                'here',\n",
       "                                                                                'whoever',\n",
       "                                                                                'beforehand',\n",
       "                                                                                'on',\n",
       "                                                                                'eight',\n",
       "                                                                                'hereby',\n",
       "                                                                                'becoming',\n",
       "                                                                                'per',\n",
       "                                                                                'show',\n",
       "                                                                                'whose',\n",
       "                                                                                'least',\n",
       "                                                                                'one',\n",
       "                                                                                'every',\n",
       "                                                                                'beside',\n",
       "                                                                                'who',\n",
       "                                                                                'twenty',\n",
       "                                                                                'find', ...]],\n",
       "                                        'forest__ccp_alpha': [0.0, 0.1, 0.3],\n",
       "                                        'forest__max_depth': [None, 3, 5],\n",
       "                                        'forest__max_features': ['auto', 3, 5],\n",
       "                                        'forest__min_samples_leaf': [1, 2, 3],\n",
       "                                        'forest__min_samples_split': [2, 3, 4]},\n",
       "                   random_state=430, scoring='accuracy')"
      ]
     },
     "execution_count": 57,
     "metadata": {},
     "output_type": "execute_result"
    }
   ],
   "source": [
    "params_2 = {\n",
    "    'feats__vect_pipe__vect__stop_words':[stop_words],\n",
    "    'feats__vect_pipe__vect__min_df': list(range(1,10)),\n",
    "    'feats__vect_pipe__vect__max_df': [1.0, .75, .5],\n",
    "    'feats__vect_pipe__vect__binary': [True, False],\n",
    "    'feats__vect_pipe__vect__ngram_range': [(1,1), (1,2)], \n",
    "    'feats__vect_pipe__vect__max_features': [1_000, 2_000], \n",
    "    'forest__min_samples_split': [2,3,4],\n",
    "    'forest__min_samples_leaf':[1,2,3],\n",
    "    'forest__max_depth':[None, 3,5],\n",
    "    'forest__max_features':['auto',3,5],\n",
    "    'forest__ccp_alpha':[0.0,0.1,0.3]\n",
    "}\n",
    "\n",
    "rs_2 = RandomizedSearchCV(pipe_model, params_2, scoring='accuracy', random_state=430)\n",
    "rs_2.fit(X_train, y_train)"
   ]
  },
  {
   "cell_type": "code",
   "execution_count": 58,
   "id": "380ad86d",
   "metadata": {},
   "outputs": [
    {
     "name": "stdout",
     "output_type": "stream",
     "text": [
      "0.8146371976647206\n",
      "{'forest__min_samples_split': 3, 'forest__min_samples_leaf': 3, 'forest__max_features': 5, 'forest__max_depth': None, 'forest__ccp_alpha': 0.0, 'feats__vect_pipe__vect__stop_words': ['within', 'is', 'seeming', 'very', 'empty', 'afterwards', 'noone', 'such', 'nobody', 'without', 'about', 'becomes', 'fire', 'here', 'whoever', 'beforehand', 'on', 'eight', 'hereby', 'becoming', 'per', 'show', 'whose', 'least', 'one', 'every', 'beside', 'who', 'twenty', 'find', 'also', 'ltd', 'alone', 'therein', 'twelve', 'as', 'however', 'other', 'seem', 'namely', 'since', 'she', 'though', 'found', 'three', 'next', 'before', 'do', 'give', 'wherever', 'thereby', 'fifty', 'hundred', 'seems', 'thin', 'sincere', 'describe', 'many', 'system', 'two', 'now', 'were', 'me', 'can', 'few', 'formerly', 'ten', 'this', 'its', 'seemed', 'any', 'no', 'eg', 'amount', 'which', 'neither', 'upon', 'into', 'has', 'mill', 'thereafter', 'first', 'both', 'some', 'towards', 'front', 'same', 'cannot', 'wherein', 'against', 'hereafter', 'none', 'often', 'behind', 'until', 'his', 'although', 'thick', 'well', 'become', 'again', 'put', 'part', 'whereby', 'con', 'go', 'only', 'cant', 'had', 'it', 'whence', 'amoungst', 'was', 'most', 'be', 'not', 'still', 'those', 'six', 'ie', 'above', 'via', 'anyone', 'full', 'therefore', 'anywhere', 'thereupon', 'been', 'became', 'third', 'forty', 'moreover', 'everywhere', 'could', 'mostly', 'due', 'your', 'less', 'eleven', 'sometimes', 'under', 'whatever', 'and', 'fifteen', 'nor', 'her', 'herself', 'everything', 'besides', 'name', 'these', 'anything', 'what', 'keep', 'hasnt', 'during', 'meanwhile', 'everyone', 'but', 'back', 'myself', 'from', 'there', 'de', 'sixty', 'etc', 'may', 'elsewhere', 'amongst', 'if', 'nine', 'hers', 'of', 'whither', 'several', 'enough', 'while', 'down', 'around', 'sometime', 'then', 'five', 'whereas', 'whereupon', 'how', 'last', 'yet', 'have', 'whenever', 'all', 'interest', 'see', 'latter', 'so', 'after', 'than', 'thence', 'along', 'my', 'throughout', 'he', 'anyway', 'would', 'for', 'at', 'bill', 'in', 'beyond', 'rather', 'with', 'why', 'please', 'another', 'mine', 'thus', 'indeed', 'nevertheless', 'own', 'nowhere', 'inc', 'off', 'ever', 'somehow', 'done', 'further', 'whereafter', 'by', 'whole', 'them', 'once', 'others', 'else', 'hereupon', 'an', 'below', 'cry', 'someone', 'made', 'top', 'couldnt', 'yourselves', 'un', 'much', 'they', 'each', 'yourself', 'ours', 'through', 'call', 'where', 'serious', 'detail', 'being', 'except', 'up', 'to', 'him', 'side', 'take', 'should', 'that', 'thru', 'might', 'always', 'otherwise', 'nothing', 'almost', 'anyhow', 'or', 'because', 'onto', 'herein', 'fill', 'i', 'will', 'themselves', 'the', 'whom', 'am', 'toward', 'together', 'are', 'across', 'something', 'itself', 'ourselves', 'get', 'must', 'either', 'himself', 'a', 'we', 'out', 'co', 'more', 'yours', 'never', 'you', 'between', 'hence', 'whether', 'bottom', 'even', 'already', 'move', 'when', 'latterly', 'too', 'over', 'among', 're', 'four', 'their', 'former', 'our', 'perhaps', 'somewhere', 'us', 'help', 'com', 'have', 've', 'does', 'know', 'don', 'want', 'website', 'row', 'let', 'hey', 'guys', 'like', 'hey', 'place', 'http', 'www', 'bytes', 'think', \"don't\", \"doesn't\", 'does', 'just', 'people', 'use', \"i've\", 'hi', 'need', 'doesn'], 'feats__vect_pipe__vect__ngram_range': (1, 1), 'feats__vect_pipe__vect__min_df': 9, 'feats__vect_pipe__vect__max_features': 2000, 'feats__vect_pipe__vect__max_df': 0.75, 'feats__vect_pipe__vect__binary': False}\n"
     ]
    }
   ],
   "source": [
    "#looking at best accuracy score and best parameters\n",
    "print(rs_2.best_score_) \n",
    "print(rs_2.best_params_)"
   ]
  },
  {
   "cell_type": "markdown",
   "id": "0c58d906",
   "metadata": {},
   "source": [
    "**Step 4** Model Evaluation"
   ]
  },
  {
   "cell_type": "code",
   "execution_count": 59,
   "id": "e740e5ee",
   "metadata": {},
   "outputs": [
    {
     "data": {
      "text/plain": [
       "<sklearn.metrics._plot.confusion_matrix.ConfusionMatrixDisplay at 0x7fef833cb460>"
      ]
     },
     "execution_count": 59,
     "metadata": {},
     "output_type": "execute_result"
    },
    {
     "data": {
      "image/png": "[encoded data removed]",
      "text/plain": [
       "<Figure size 432x288 with 2 Axes>"
      ]
     },
     "metadata": {
      "needs_background": "light"
     },
     "output_type": "display_data"
    }
   ],
   "source": [
    "# I want to first take a look at my confusion matrix\n",
    "plot_confusion_matrix(rs_2, X_test, y_test, display_labels=['sustainability', 'climatechange'], \n",
    "                      cmap='Blues')"
   ]
  },
  {
   "cell_type": "code",
   "execution_count": 60,
   "id": "448db5ef",
   "metadata": {},
   "outputs": [
    {
     "data": {
      "text/plain": [
       "(0.8630541871921182, 0.7563451776649747, 0.8105, 0.7849462365591398)"
      ]
     },
     "execution_count": 60,
     "metadata": {},
     "output_type": "execute_result"
    }
   ],
   "source": [
    "#looking at the predictions\n",
    "preds = rs_2.predict(X_test)\n",
    "\n",
    "#identifying values of my confusion matrix \n",
    "tn, fp, fn, tp = metrics.confusion_matrix(y_test, preds).ravel()\n",
    "\n",
    "# calculating sensitivity, specificity and overall accuracy\n",
    "sensitivity = tp/(tp+fn)\n",
    "specificity = tn/(tn+fp)\n",
    "accuracy = (tp+tn)/(tp+tn+fn+fp)\n",
    "precision = (tp)/(tp+fp)\n",
    "#printing results\n",
    "sensitivity, specificity, accuracy, precision"
   ]
  },
  {
   "cell_type": "code",
   "execution_count": 61,
   "id": "58ef4f18",
   "metadata": {},
   "outputs": [
    {
     "data": {
      "text/plain": [
       "0.9003860868695457"
      ]
     },
     "execution_count": 61,
     "metadata": {},
     "output_type": "execute_result"
    }
   ],
   "source": [
    "#calculating ROC AUC Score\n",
    "probs = rs_2.predict_proba(X_test)[:,1]\n",
    "metrics.roc_auc_score(y_test, probs)"
   ]
  },
  {
   "cell_type": "code",
   "execution_count": 62,
   "id": "52a87331",
   "metadata": {},
   "outputs": [
    {
     "data": {
      "text/plain": [
       "<matplotlib.legend.Legend at 0x7fef834913d0>"
      ]
     },
     "execution_count": 62,
     "metadata": {},
     "output_type": "execute_result"
    },
    {
     "data": {
      "image/png": "[encoded data removed]",
      "text/plain": [
       "<Figure size 432x288 with 1 Axes>"
      ]
     },
     "metadata": {
      "needs_background": "light"
     },
     "output_type": "display_data"
    }
   ],
   "source": [
    "# Source: this graph is coming from class classsification metrics II\n",
    "# I want to visualize teh false positive rate against the true positive rate\n",
    "metrics.plot_roc_curve(rs_2, X_test, y_test)\n",
    "plt.plot([0,1], [0,1], color ='orange', label ='Baseline')\n",
    "plt.legend()"
   ]
  },
  {
   "cell_type": "code",
   "execution_count": 63,
   "id": "26393c4f",
   "metadata": {},
   "outputs": [
    {
     "name": "stderr",
     "output_type": "stream",
     "text": [
      "/Users/filoradice/opt/anaconda3/lib/python3.9/site-packages/seaborn/distributions.py:2619: FutureWarning: `distplot` is a deprecated function and will be removed in a future version. Please adapt your code to use either `displot` (a figure-level function with similar flexibility) or `histplot` (an axes-level function for histograms).\n",
      "  warnings.warn(msg, FutureWarning)\n"
     ]
    },
    {
     "data": {
      "image/png": "[encoded data removed]",
      "text/plain": [
       "<Figure size 864x360 with 1 Axes>"
      ]
     },
     "metadata": {
      "needs_background": "light"
     },
     "output_type": "display_data"
    }
   ],
   "source": [
    "# Source: this graph is coming from class classification metrics II\n",
    "\n",
    "df_probs = pd.DataFrame({'true_values': y_test, 'preds_prob':probs})\n",
    "plt.figure(figsize = (12, 5))\n",
    "\n",
    "# plot distributions of predicted probabilities by actual values\n",
    "for group in df_probs.groupby('true_values'):\n",
    "    sns.distplot(group[1], kde = False, bins = 20, label = f'Actual Outcome = {group[0]}')\n",
    "# Add cutoff line\n",
    "plt.axvline(.5, color='r')\n",
    "\n",
    "plt.xlabel('Predicted Probability that Outcome = 1')\n",
    "plt.legend();"
   ]
  },
  {
   "cell_type": "markdown",
   "id": "28e06dd2",
   "metadata": {},
   "source": [
    "### Section 3 - Conclusion"
   ]
  },
  {
   "cell_type": "markdown",
   "id": "652f0de3",
   "metadata": {},
   "source": [
    "By looking at all different metrics, we can conclude that the sentiment analysis does not add value to the prediction of my Random Forest model classifier. Meaning that, the difference in the sentiment score across the different subreddits does not improve model predictions. In fact, the best accuracy score for the model with sentiment analysis is .816 against .821 for the one without. \n",
    "Below, the summary of the different other scores computed before\n",
    "\n",
    "Random Forest Scores **without** Sentiment Analysis: \n",
    "1. sensitivity 0.847 \n",
    "2. specificity 0.785\n",
    "3. accuracy 0.816\n",
    "4. precision 0.802\n",
    "\n",
    "Random Forest Scores **with** Sentiment Analysis:  \n",
    "1. sensitivity 0.870 \n",
    "2. specificity 0.751\n",
    "3. accuracy 0.811 \n",
    "4. precision 0.783\n"
   ]
  },
  {
   "cell_type": "code",
   "execution_count": null,
   "id": "a45c397b",
   "metadata": {},
   "outputs": [],
   "source": []
  }
 ],
 "metadata": {
  "kernelspec": {
   "display_name": "Python 3 (ipykernel)",
   "language": "python",
   "name": "python3"
  },
  "language_info": {
   "codemirror_mode": {
    "name": "ipython",
    "version": 3
   },
   "file_extension": ".py",
   "mimetype": "text/x-python",
   "name": "python",
   "nbconvert_exporter": "python",
   "pygments_lexer": "ipython3",
   "version": "3.9.7"
  }
 },
 "nbformat": 4,
 "nbformat_minor": 5
}
