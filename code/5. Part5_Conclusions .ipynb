{
 "cells": [
  {
   "cell_type": "markdown",
   "id": "00a025ec",
   "metadata": {},
   "source": [
    "## Part 5 - Conclusions"
   ]
  },
  {
   "cell_type": "markdown",
   "id": "c3de6edd",
   "metadata": {},
   "source": [
    "The non-profit organization was interested to understand whether by talking about climate change in a more broaden context such as sustainability, the overall sentiment that people have when talking about environmental-related topics could become more propositional and less catastrophic.  \n",
    "\n",
    "As shown in Part 2 of this project, the sustainability group tends to present a more positive distribution of its sentiment scores with a median value of 0.25 against 0.00 for climate change. Moreover, in part 3, we have seen how the word **anxiety** is within the 10 best  predictors for the class climate change. This seems to confirm the original hypothesis where I was expecting to detect a more positive sentiment in the sustainability group as people tend to be  more focus on the solution side of the environemntal crisis. \n",
    "\n",
    "The difference of the compound between the two groups was great enough to create a signal that the logistic model classifier could detect to sharpen its predictions. Infact, thanks to the Sentiment Analysis, the overall accuracy of the Logistic Regression increased from .815 up to .821. We can also see improvement in its precision and specificity metrics. The only score that experienced a drop is the sensitivity. \n",
    "\n",
    "This with and without analyis has been replicated with a Random Forest Classifier. However, the predictions of both models were less accurate than the ones obtained through the Logistic Regression Classifiers. \n",
    "A summary of the different scores for all models is provided below"
   ]
  },
  {
   "cell_type": "markdown",
   "id": "605a0b9f",
   "metadata": {},
   "source": [
    "**Summary of Models' Scores**"
   ]
  },
  {
   "cell_type": "markdown",
   "id": "2243b297",
   "metadata": {},
   "source": [
    "Logistic Regression Scores **without** Sentiment Analysis: \n",
    "1. sensitivity 0.844 \n",
    "2. specificity 0.788\n",
    "3. accuracy 0.815\n",
    "4. precision 0.799\n",
    "\n",
    "\n",
    "Logistic Regression Scores **with** Sentiment Analysis:  \n",
    "1. sensitivity 0.838 \n",
    "2. specificity 0.804\n",
    "3. accuracy 0.821 \n",
    "4. precision 0.810\n",
    "\n",
    "\n",
    "Random Forest Scores **without** Sentiment Analysis: \n",
    "1. sensitivity 0.847 \n",
    "2. specificity 0.785\n",
    "3. accuracy 0.816\n",
    "4. precision 0.802\n",
    "\n",
    "Random Forest Scores **with** Sentiment Analysis:  \n",
    "1. sensitivity 0.870 \n",
    "2. specificity 0.751\n",
    "3. accuracy 0.811 \n",
    "4. precision 0.783"
   ]
  },
  {
   "cell_type": "code",
   "execution_count": null,
   "id": "356431d3",
   "metadata": {},
   "outputs": [],
   "source": []
  }
 ],
 "metadata": {
  "kernelspec": {
   "display_name": "Python 3 (ipykernel)",
   "language": "python",
   "name": "python3"
  },
  "language_info": {
   "codemirror_mode": {
    "name": "ipython",
    "version": 3
   },
   "file_extension": ".py",
   "mimetype": "text/x-python",
   "name": "python",
   "nbconvert_exporter": "python",
   "pygments_lexer": "ipython3",
   "version": "3.9.7"
  }
 },
 "nbformat": 4,
 "nbformat_minor": 5
}
