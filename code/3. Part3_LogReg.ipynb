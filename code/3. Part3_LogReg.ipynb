{
 "cells": [
  {
   "cell_type": "markdown",
   "id": "cb5154b4",
   "metadata": {},
   "source": [
    "## Part 3 -  Logistic Regression Classifier"
   ]
  },
  {
   "cell_type": "markdown",
   "id": "8ad175ff",
   "metadata": {},
   "source": [
    "In this jupyter notebook I will be feeding the data that are coming from Part 2 into a logistic regression classifier, to predict whether a post is coming either from the sustainability or climate change subreddit. More precisely, there will be two different logistic regression models:i) the first model is using only the words that are coming from the title_selftext column; ii) the second one instead will be adding the sentiment score. The goal is to see if the sentiment detected in the different texts can improve to the accuracy score of the classifier model"
   ]
  },
  {
   "cell_type": "markdown",
   "id": "041e4ff1",
   "metadata": {},
   "source": [
    "### Section 1 - Library and Data Import"
   ]
  },
  {
   "cell_type": "code",
   "execution_count": 262,
   "id": "8a0e6860",
   "metadata": {},
   "outputs": [],
   "source": [
    "import pandas as pd\n",
    "import numpy as np\n",
    "import matplotlib.pyplot as plt\n",
    "import seaborn as sns\n",
    "import re\n",
    "\n",
    "from sklearn.linear_model import LogisticRegression\n",
    "from sklearn.feature_extraction.text import CountVectorizer\n",
    "from sklearn.pipeline import Pipeline\n",
    "from sklearn.model_selection import train_test_split,  cross_val_score, RandomizedSearchCV\n",
    "from sklearn.metrics import plot_confusion_matrix\n",
    "from sklearn.preprocessing import FunctionTransformer\n",
    "import pprint as pp\n",
    "\n",
    "from sklearn.pipeline import FeatureUnion\n",
    "import sklearn.metrics as metrics\n",
    "\n"
   ]
  },
  {
   "cell_type": "code",
   "execution_count": 263,
   "id": "31223451",
   "metadata": {},
   "outputs": [],
   "source": [
    "df = pd.read_csv('../data/reddits_cleaned_sentiment.csv')"
   ]
  },
  {
   "cell_type": "code",
   "execution_count": 264,
   "id": "7d19f2f2",
   "metadata": {},
   "outputs": [
    {
     "data": {
      "text/html": [
       "<div>\n",
       "<style scoped>\n",
       "    .dataframe tbody tr th:only-of-type {\n",
       "        vertical-align: middle;\n",
       "    }\n",
       "\n",
       "    .dataframe tbody tr th {\n",
       "        vertical-align: top;\n",
       "    }\n",
       "\n",
       "    .dataframe thead th {\n",
       "        text-align: right;\n",
       "    }\n",
       "</style>\n",
       "<table border=\"1\" class=\"dataframe\">\n",
       "  <thead>\n",
       "    <tr style=\"text-align: right;\">\n",
       "      <th></th>\n",
       "      <th>subreddit</th>\n",
       "      <th>title_selftext</th>\n",
       "      <th>sentiment_score</th>\n",
       "    </tr>\n",
       "  </thead>\n",
       "  <tbody>\n",
       "    <tr>\n",
       "      <th>0</th>\n",
       "      <td>1</td>\n",
       "      <td>why does many big crop starting to have sustai...</td>\n",
       "      <td>0.0</td>\n",
       "    </tr>\n",
       "    <tr>\n",
       "      <th>1</th>\n",
       "      <td>1</td>\n",
       "      <td>use new phone for 5 years or refurbished phone...</td>\n",
       "      <td>0.0</td>\n",
       "    </tr>\n",
       "  </tbody>\n",
       "</table>\n",
       "</div>"
      ],
      "text/plain": [
       "   subreddit                                     title_selftext  \\\n",
       "0          1  why does many big crop starting to have sustai...   \n",
       "1          1  use new phone for 5 years or refurbished phone...   \n",
       "\n",
       "   sentiment_score  \n",
       "0              0.0  \n",
       "1              0.0  "
      ]
     },
     "execution_count": 264,
     "metadata": {},
     "output_type": "execute_result"
    }
   ],
   "source": [
    "#checking first 2 rows\n",
    "df.head(2) "
   ]
  },
  {
   "cell_type": "code",
   "execution_count": 265,
   "id": "dc198e3c",
   "metadata": {},
   "outputs": [
    {
     "name": "stdout",
     "output_type": "stream",
     "text": [
      "<class 'pandas.core.frame.DataFrame'>\n",
      "RangeIndex: 7999 entries, 0 to 7998\n",
      "Data columns (total 3 columns):\n",
      " #   Column           Non-Null Count  Dtype  \n",
      "---  ------           --------------  -----  \n",
      " 0   subreddit        7999 non-null   int64  \n",
      " 1   title_selftext   7999 non-null   object \n",
      " 2   sentiment_score  7999 non-null   float64\n",
      "dtypes: float64(1), int64(1), object(1)\n",
      "memory usage: 187.6+ KB\n"
     ]
    }
   ],
   "source": [
    "#looking at the info of the df\n",
    "df.info()"
   ]
  },
  {
   "cell_type": "markdown",
   "id": "b2819290",
   "metadata": {},
   "source": [
    "### Section 2 - Logistic Regression Classifier"
   ]
  },
  {
   "cell_type": "markdown",
   "id": "4c3c9324",
   "metadata": {},
   "source": [
    "There are only two different things that I will be using in both model and that I want to include in this section:i)the null model; ii) a common stop_words hyperparameter"
   ]
  },
  {
   "cell_type": "code",
   "execution_count": 266,
   "id": "802a4f8c",
   "metadata": {},
   "outputs": [
    {
     "data": {
      "text/plain": [
       "1    0.500438\n",
       "0    0.499562\n",
       "Name: subreddit, dtype: float64"
      ]
     },
     "execution_count": 266,
     "metadata": {},
     "output_type": "execute_result"
    }
   ],
   "source": [
    "#The Null Model\n",
    "null_model = df['subreddit'].value_counts(normalize=True)\n",
    "#Baseline Accuracy: ~50% (class 1)\n",
    "null_model"
   ]
  },
  {
   "cell_type": "code",
   "execution_count": 267,
   "id": "7c174dea",
   "metadata": {},
   "outputs": [
    {
     "data": {
      "image/png": "[encoded data removed]",
      "text/plain": [
       "<Figure size 864x432 with 1 Axes>"
      ]
     },
     "metadata": {
      "needs_background": "light"
     },
     "output_type": "display_data"
    }
   ],
   "source": [
    "plt.figure(figsize=(12,6))\n",
    "x = range(len(null_model.reset_index()))\n",
    "y = null_model.reset_index().loc[:,'subreddit']\n",
    "plt.bar(x,y, color='skyblue')\n",
    "ax = plt.subplot()\n",
    "ax.set_xticks(x)\n",
    "ax.set_xticklabels(['Climate Change', 'Sustainability'], fontdict= {'fontsize':12})\n",
    "ax.set_xlabel('Subreddit', fontdict= {'fontsize':14})\n",
    "ax.set_ylabel('Baseline Accuracy', fontdict= {'fontsize':14})\n",
    "ax.set_title('The Null Model', fontdict = {'fontsize':16})\n",
    "plt.tight_layout();"
   ]
  },
  {
   "cell_type": "code",
   "execution_count": 268,
   "id": "5d3997e2",
   "metadata": {},
   "outputs": [],
   "source": [
    "#Here I am creating a new stop_words vocabulary for both models\n",
    "cvec = CountVectorizer(stop_words='english')\n",
    "stop_words = list(cvec.get_stop_words())\n",
    "lst = ['help','com' ,'have','ve' ,\"does\", 'know', \"don\", 'want', 'website', 'row', 'let', 'hey', 'guys', \n",
    "       'like', 'hey', 'place', 'http', 'www', 'bytes', 'think', \"don't\", \"doesn't\", \"does\", 'just', \n",
    "       'people', 'use',\"i've\", 'hi', 'need', 'doesn']\n",
    "\n",
    "stop_words = stop_words + lst"
   ]
  },
  {
   "cell_type": "markdown",
   "id": "b661693a",
   "metadata": {},
   "source": [
    "### Section 2.1 - Logistic Regression without Sentiment Analysis"
   ]
  },
  {
   "cell_type": "markdown",
   "id": "308a47ab",
   "metadata": {},
   "source": [
    "**Step 1** Assembling Predictors, Target and train_test_split"
   ]
  },
  {
   "cell_type": "code",
   "execution_count": 269,
   "id": "282f6654",
   "metadata": {},
   "outputs": [],
   "source": [
    "X = df['title_selftext']\n",
    "y = df['subreddit']\n",
    "\n",
    "X_train, X_test, y_train, y_test = train_test_split(X,\n",
    "                                                    y,\n",
    "                                                    stratify=y,\n",
    "                                                    random_state=42)"
   ]
  },
  {
   "cell_type": "markdown",
   "id": "8ad1450c",
   "metadata": {},
   "source": [
    "**Step 2** Instantiate and fitting The Pipeline  "
   ]
  },
  {
   "cell_type": "code",
   "execution_count": 270,
   "id": "7b421cab",
   "metadata": {},
   "outputs": [
    {
     "data": {
      "text/plain": [
       "Pipeline(steps=[('vect', CountVectorizer()),\n",
       "                ('lr', LogisticRegression(max_iter=1000))])"
      ]
     },
     "execution_count": 270,
     "metadata": {},
     "output_type": "execute_result"
    }
   ],
   "source": [
    "# Instantiate a pipeline\n",
    "pipe = Pipeline([\n",
    "    ('vect', CountVectorizer()),\n",
    "    ('lr', LogisticRegression(max_iter=1000))\n",
    "])\n",
    "#fitting the pipe\n",
    "pipe.fit(X_train, y_train)"
   ]
  },
  {
   "cell_type": "code",
   "execution_count": 271,
   "id": "597db730",
   "metadata": {},
   "outputs": [
    {
     "data": {
      "text/plain": [
       "(0.966494415735956, 0.8065, 0.8099681679177092)"
      ]
     },
     "execution_count": 271,
     "metadata": {},
     "output_type": "execute_result"
    }
   ],
   "source": [
    "#Checking at my train, test, cross val score\n",
    "pipe.score(X_train,y_train), pipe.score(X_test,y_test), cross_val_score(pipe,X_train,y_train ).mean()"
   ]
  },
  {
   "cell_type": "markdown",
   "id": "c7b3cd59",
   "metadata": {},
   "source": [
    "**Step 3** Instantiate and Fitting RandomizedSearchCV"
   ]
  },
  {
   "cell_type": "code",
   "execution_count": 272,
   "id": "d99f4131",
   "metadata": {},
   "outputs": [
    {
     "name": "stdout",
     "output_type": "stream",
     "text": [
      "Fitting 5 folds for each of 10 candidates, totalling 50 fits\n"
     ]
    },
    {
     "data": {
      "text/plain": [
       "RandomizedSearchCV(cv=5,\n",
       "                   estimator=Pipeline(steps=[('vect', CountVectorizer()),\n",
       "                                             ('lr',\n",
       "                                              LogisticRegression(max_iter=1000))]),\n",
       "                   param_distributions={'lr__C': [0.05, 0.1, 0.5, 1],\n",
       "                                        'vect__binary': [True, False],\n",
       "                                        'vect__max_df': [1.0, 0.75, 0.5, 0.25],\n",
       "                                        'vect__max_features': [500, 1000, 2000],\n",
       "                                        'vect__min_df': [1, 2, 3, 4, 5, 6, 7, 8,\n",
       "                                                         9],\n",
       "                                        'vect__ngram_range': [(2, 2), (1, 1),\n",
       "                                                              (1, 2)],\n",
       "                                        'vect__stop_words': [['made', 'each',\n",
       "                                                              'are', 'over',\n",
       "                                                              'elsewhere',\n",
       "                                                              'nothing',\n",
       "                                                              'whereby', 'its',\n",
       "                                                              'together',\n",
       "                                                              'whither',\n",
       "                                                              'among', 'part',\n",
       "                                                              'toward',\n",
       "                                                              'already', 'less',\n",
       "                                                              'whether', 'am',\n",
       "                                                              'seem', 'then',\n",
       "                                                              'therefore',\n",
       "                                                              'couldnt', 'onto',\n",
       "                                                              'who', 'when',\n",
       "                                                              'everywhere',\n",
       "                                                              'while',\n",
       "                                                              'interest',\n",
       "                                                              'such', 'show',\n",
       "                                                              'eg', ...]]},\n",
       "                   random_state=430, scoring='accuracy', verbose=1)"
      ]
     },
     "execution_count": 272,
     "metadata": {},
     "output_type": "execute_result"
    }
   ],
   "source": [
    "#First off, I want to define the parameters for the models established within the pipeline \n",
    "params = {\n",
    "    'vect__stop_words':[stop_words],\n",
    "    'vect__min_df': list(range(1,10)),\n",
    "    'vect__max_df': [1.0, .75, .5, 0.25],\n",
    "    'vect__binary': [True, False],\n",
    "    'vect__ngram_range': [(2, 2), (1,1), (1,2)], \n",
    "    'vect__max_features': [500, 1_000, 2_000], \n",
    "    'lr__C':[0.05, 0.1, 0.5,1]\n",
    "    \n",
    "}\n",
    "#Instantiating GridSearch with pipe and parameters established before\n",
    "#setting up a random state to ensure replicability of results\n",
    "rs = RandomizedSearchCV(pipe, params, cv=5, verbose = 1, n_iter=10, scoring='accuracy',random_state=430)\n",
    "#Fitting the GridSearch\n",
    "rs.fit(X_train, y_train)"
   ]
  },
  {
   "cell_type": "code",
   "execution_count": 273,
   "id": "a20e20ba",
   "metadata": {},
   "outputs": [
    {
     "data": {
      "text/plain": [
       "0.8129673338893522"
      ]
     },
     "execution_count": 273,
     "metadata": {},
     "output_type": "execute_result"
    }
   ],
   "source": [
    "#Taking a look at cross val score\n",
    "rs.best_score_"
   ]
  },
  {
   "cell_type": "code",
   "execution_count": 274,
   "id": "4b7caed8",
   "metadata": {},
   "outputs": [
    {
     "data": {
      "text/plain": [
       "{'vect__stop_words': ['made',\n",
       "  'each',\n",
       "  'are',\n",
       "  'over',\n",
       "  'elsewhere',\n",
       "  'nothing',\n",
       "  'whereby',\n",
       "  'its',\n",
       "  'together',\n",
       "  'whither',\n",
       "  'among',\n",
       "  'part',\n",
       "  'toward',\n",
       "  'already',\n",
       "  'less',\n",
       "  'whether',\n",
       "  'am',\n",
       "  'seem',\n",
       "  'then',\n",
       "  'therefore',\n",
       "  'couldnt',\n",
       "  'onto',\n",
       "  'who',\n",
       "  'when',\n",
       "  'everywhere',\n",
       "  'while',\n",
       "  'interest',\n",
       "  'such',\n",
       "  'show',\n",
       "  'eg',\n",
       "  'will',\n",
       "  'next',\n",
       "  'many',\n",
       "  'whose',\n",
       "  'hereupon',\n",
       "  'found',\n",
       "  'but',\n",
       "  'beside',\n",
       "  'perhaps',\n",
       "  'whereas',\n",
       "  'so',\n",
       "  'upon',\n",
       "  'became',\n",
       "  'after',\n",
       "  'call',\n",
       "  'hereby',\n",
       "  'six',\n",
       "  'thus',\n",
       "  'ever',\n",
       "  'throughout',\n",
       "  'seeming',\n",
       "  'through',\n",
       "  'for',\n",
       "  'have',\n",
       "  'down',\n",
       "  'least',\n",
       "  'an',\n",
       "  'thru',\n",
       "  'most',\n",
       "  'our',\n",
       "  'be',\n",
       "  'into',\n",
       "  'etc',\n",
       "  'several',\n",
       "  'above',\n",
       "  'below',\n",
       "  'find',\n",
       "  'myself',\n",
       "  'co',\n",
       "  'whereafter',\n",
       "  'it',\n",
       "  'under',\n",
       "  'a',\n",
       "  'this',\n",
       "  'indeed',\n",
       "  'more',\n",
       "  'beyond',\n",
       "  'or',\n",
       "  'must',\n",
       "  'me',\n",
       "  'back',\n",
       "  'across',\n",
       "  'themselves',\n",
       "  'sincere',\n",
       "  'own',\n",
       "  'except',\n",
       "  'well',\n",
       "  'wherever',\n",
       "  'he',\n",
       "  'at',\n",
       "  'top',\n",
       "  'now',\n",
       "  'nine',\n",
       "  'thick',\n",
       "  'once',\n",
       "  'give',\n",
       "  'un',\n",
       "  'never',\n",
       "  'first',\n",
       "  'their',\n",
       "  'fifteen',\n",
       "  'often',\n",
       "  'nevertheless',\n",
       "  'whoever',\n",
       "  'seemed',\n",
       "  'something',\n",
       "  'two',\n",
       "  'ltd',\n",
       "  'us',\n",
       "  'almost',\n",
       "  'them',\n",
       "  'though',\n",
       "  'out',\n",
       "  'not',\n",
       "  'off',\n",
       "  'somewhere',\n",
       "  'his',\n",
       "  'towards',\n",
       "  'with',\n",
       "  'has',\n",
       "  'sometime',\n",
       "  'is',\n",
       "  'serious',\n",
       "  'none',\n",
       "  'become',\n",
       "  'itself',\n",
       "  'thereby',\n",
       "  'ten',\n",
       "  'detail',\n",
       "  'although',\n",
       "  'ours',\n",
       "  'side',\n",
       "  'mine',\n",
       "  'everything',\n",
       "  'only',\n",
       "  'were',\n",
       "  'former',\n",
       "  'also',\n",
       "  'neither',\n",
       "  'seems',\n",
       "  'some',\n",
       "  'him',\n",
       "  'would',\n",
       "  'until',\n",
       "  'bill',\n",
       "  'move',\n",
       "  'others',\n",
       "  'eight',\n",
       "  'take',\n",
       "  'nowhere',\n",
       "  'namely',\n",
       "  'three',\n",
       "  'whenever',\n",
       "  'of',\n",
       "  'before',\n",
       "  'on',\n",
       "  'otherwise',\n",
       "  'ie',\n",
       "  'very',\n",
       "  'anyone',\n",
       "  'yours',\n",
       "  'sixty',\n",
       "  'get',\n",
       "  'hence',\n",
       "  'per',\n",
       "  'yet',\n",
       "  'thereafter',\n",
       "  'what',\n",
       "  'put',\n",
       "  'another',\n",
       "  'all',\n",
       "  'where',\n",
       "  'up',\n",
       "  'beforehand',\n",
       "  'around',\n",
       "  're',\n",
       "  'can',\n",
       "  'alone',\n",
       "  'fill',\n",
       "  'everyone',\n",
       "  'de',\n",
       "  'the',\n",
       "  'afterwards',\n",
       "  'empty',\n",
       "  'con',\n",
       "  'hereafter',\n",
       "  'much',\n",
       "  'we',\n",
       "  'four',\n",
       "  'by',\n",
       "  'cant',\n",
       "  'describe',\n",
       "  'sometimes',\n",
       "  'latterly',\n",
       "  'somehow',\n",
       "  'becomes',\n",
       "  'both',\n",
       "  'hundred',\n",
       "  'there',\n",
       "  'rather',\n",
       "  'further',\n",
       "  'formerly',\n",
       "  'wherein',\n",
       "  'bottom',\n",
       "  'herein',\n",
       "  'whereupon',\n",
       "  'enough',\n",
       "  'thence',\n",
       "  'could',\n",
       "  'whom',\n",
       "  'my',\n",
       "  'other',\n",
       "  'from',\n",
       "  'inc',\n",
       "  'mostly',\n",
       "  'mill',\n",
       "  'hasnt',\n",
       "  'few',\n",
       "  'himself',\n",
       "  'cry',\n",
       "  'during',\n",
       "  'keep',\n",
       "  'every',\n",
       "  'should',\n",
       "  'amongst',\n",
       "  'name',\n",
       "  'if',\n",
       "  'anywhere',\n",
       "  'eleven',\n",
       "  'amoungst',\n",
       "  'whole',\n",
       "  'as',\n",
       "  'and',\n",
       "  'hers',\n",
       "  'even',\n",
       "  'than',\n",
       "  'because',\n",
       "  'was',\n",
       "  'whatever',\n",
       "  'behind',\n",
       "  'to',\n",
       "  'thereupon',\n",
       "  'these',\n",
       "  'had',\n",
       "  'anyhow',\n",
       "  'one',\n",
       "  'about',\n",
       "  'someone',\n",
       "  'please',\n",
       "  'she',\n",
       "  'along',\n",
       "  'either',\n",
       "  'noone',\n",
       "  'ourselves',\n",
       "  'therein',\n",
       "  'same',\n",
       "  'see',\n",
       "  'amount',\n",
       "  'five',\n",
       "  'that',\n",
       "  'they',\n",
       "  'might',\n",
       "  'why',\n",
       "  'yourselves',\n",
       "  'forty',\n",
       "  'how',\n",
       "  'without',\n",
       "  'go',\n",
       "  'nobody',\n",
       "  'full',\n",
       "  'against',\n",
       "  'within',\n",
       "  'between',\n",
       "  'moreover',\n",
       "  'last',\n",
       "  'do',\n",
       "  'latter',\n",
       "  'since',\n",
       "  'twelve',\n",
       "  'again',\n",
       "  'becoming',\n",
       "  'in',\n",
       "  'system',\n",
       "  'her',\n",
       "  'which',\n",
       "  'anything',\n",
       "  'nor',\n",
       "  'cannot',\n",
       "  'thin',\n",
       "  'no',\n",
       "  'you',\n",
       "  'fifty',\n",
       "  'those',\n",
       "  'too',\n",
       "  'third',\n",
       "  'meanwhile',\n",
       "  'your',\n",
       "  'always',\n",
       "  'due',\n",
       "  'still',\n",
       "  'else',\n",
       "  'being',\n",
       "  'front',\n",
       "  'may',\n",
       "  'however',\n",
       "  'i',\n",
       "  'herself',\n",
       "  'via',\n",
       "  'any',\n",
       "  'anyway',\n",
       "  'fire',\n",
       "  'whence',\n",
       "  'twenty',\n",
       "  'yourself',\n",
       "  'been',\n",
       "  'besides',\n",
       "  'done',\n",
       "  'here',\n",
       "  'help',\n",
       "  'com',\n",
       "  'have',\n",
       "  've',\n",
       "  'does',\n",
       "  'know',\n",
       "  'don',\n",
       "  'want',\n",
       "  'website',\n",
       "  'row',\n",
       "  'let',\n",
       "  'hey',\n",
       "  'guys',\n",
       "  'like',\n",
       "  'hey',\n",
       "  'place',\n",
       "  'http',\n",
       "  'www',\n",
       "  'bytes',\n",
       "  'think',\n",
       "  \"don't\",\n",
       "  \"doesn't\",\n",
       "  'does',\n",
       "  'just',\n",
       "  'people',\n",
       "  'use',\n",
       "  \"i've\",\n",
       "  'hi',\n",
       "  'need',\n",
       "  'doesn'],\n",
       " 'vect__ngram_range': (1, 2),\n",
       " 'vect__min_df': 7,\n",
       " 'vect__max_features': 2000,\n",
       " 'vect__max_df': 0.75,\n",
       " 'vect__binary': False,\n",
       " 'lr__C': 0.1}"
      ]
     },
     "execution_count": 274,
     "metadata": {},
     "output_type": "execute_result"
    }
   ],
   "source": [
    "#Taking a look at best parameters\n",
    "rs.best_params_"
   ]
  },
  {
   "cell_type": "markdown",
   "id": "89d21f84",
   "metadata": {},
   "source": [
    "**Step 4** Model Evaluation"
   ]
  },
  {
   "cell_type": "code",
   "execution_count": 275,
   "id": "98561fe0",
   "metadata": {},
   "outputs": [
    {
     "data": {
      "text/plain": [
       "<sklearn.metrics._plot.confusion_matrix.ConfusionMatrixDisplay at 0x7f9f70ce1bb0>"
      ]
     },
     "execution_count": 275,
     "metadata": {},
     "output_type": "execute_result"
    },
    {
     "data": {
      "image/png": "[encoded data removed]",
      "text/plain": [
       "<Figure size 432x288 with 2 Axes>"
      ]
     },
     "metadata": {
      "needs_background": "light"
     },
     "output_type": "display_data"
    }
   ],
   "source": [
    "# I want to first take a look at my confusion matrix\n",
    "plot_confusion_matrix(rs, X_test, y_test, display_labels=['sustainability', 'climatechange'], \n",
    "                      cmap='Blues')"
   ]
  },
  {
   "cell_type": "code",
   "execution_count": 276,
   "id": "f62abab0",
   "metadata": {},
   "outputs": [
    {
     "data": {
      "text/plain": [
       "(0.8441558441558441, 0.7867867867867868, 0.8155, 0.7986767485822306)"
      ]
     },
     "execution_count": 276,
     "metadata": {},
     "output_type": "execute_result"
    }
   ],
   "source": [
    "#looking at the predictions\n",
    "preds = rs.predict(X_test)\n",
    "#identifying values of my confusion matrix \n",
    "tn, fp, fn, tp = metrics.confusion_matrix(y_test, preds).ravel()\n",
    "# calculating sensitivity, specificity and overall accuracy\n",
    "sensitivity_1 = tp/(tp+fn)\n",
    "specificity_1 = tn/(tn+fp)\n",
    "accuracy_1 = (tp+tn)/(tp+tn+fn+fp)\n",
    "precision_1 = (tp)/(tp+fp)\n",
    "#printing results\n",
    "sensitivity_1, specificity_1, accuracy_1, precision_1"
   ]
  },
  {
   "cell_type": "code",
   "execution_count": 277,
   "id": "0679ddbd",
   "metadata": {},
   "outputs": [
    {
     "data": {
      "text/plain": [
       "0.9057464057464057"
      ]
     },
     "execution_count": 277,
     "metadata": {},
     "output_type": "execute_result"
    }
   ],
   "source": [
    "#calculating ROC AUC Score\n",
    "probs = rs.predict_proba(X_test)[:,1]\n",
    "metrics.roc_auc_score(y_test, probs)"
   ]
  },
  {
   "cell_type": "code",
   "execution_count": 278,
   "id": "865c32a6",
   "metadata": {},
   "outputs": [
    {
     "data": {
      "text/plain": [
       "<matplotlib.legend.Legend at 0x7f9f6fe7f610>"
      ]
     },
     "execution_count": 278,
     "metadata": {},
     "output_type": "execute_result"
    },
    {
     "data": {
      "image/png": "[encoded data removed]",
      "text/plain": [
       "<Figure size 432x288 with 1 Axes>"
      ]
     },
     "metadata": {
      "needs_background": "light"
     },
     "output_type": "display_data"
    }
   ],
   "source": [
    "# Source: this graph is coming from class classification metrics II\n",
    "# I want to visualize teh false positive rate against the true positive rate\n",
    "metrics.plot_roc_curve(rs, X_test, y_test)\n",
    "plt.plot([0,1], [0,1], color ='orange', label ='Baseline')\n",
    "plt.legend()"
   ]
  },
  {
   "cell_type": "code",
   "execution_count": 279,
   "id": "1162d027",
   "metadata": {},
   "outputs": [
    {
     "name": "stderr",
     "output_type": "stream",
     "text": [
      "/Users/filoradice/opt/anaconda3/lib/python3.9/site-packages/seaborn/distributions.py:2619: FutureWarning: `distplot` is a deprecated function and will be removed in a future version. Please adapt your code to use either `displot` (a figure-level function with similar flexibility) or `histplot` (an axes-level function for histograms).\n",
      "  warnings.warn(msg, FutureWarning)\n"
     ]
    },
    {
     "data": {
      "image/png": "[encoded data removed]",
      "text/plain": [
       "<Figure size 864x360 with 1 Axes>"
      ]
     },
     "metadata": {
      "needs_background": "light"
     },
     "output_type": "display_data"
    }
   ],
   "source": [
    "# Source: this graph is coming from class classification metrics II\n",
    "\n",
    "df_probs = pd.DataFrame({'true_values': y_test, 'preds_prob':probs})\n",
    "plt.figure(figsize = (12, 5))\n",
    "\n",
    "# plot distributions of predicted probabilities by actual values\n",
    "for group in df_probs.groupby('true_values'):\n",
    "    sns.distplot(group[1], kde = False, bins = 20, label = f'Actual Outcome = {group[0]}')\n",
    "# Add cutoff line\n",
    "plt.axvline(.5, color='r')\n",
    "\n",
    "plt.xlabel('Predicted Probability that Outcome = 1')\n",
    "plt.legend();"
   ]
  },
  {
   "cell_type": "markdown",
   "id": "5f977cc7",
   "metadata": {},
   "source": [
    "### Section 2.2 - Logistic Regression with Sentiment Analysis"
   ]
  },
  {
   "cell_type": "markdown",
   "id": "5addcc92",
   "metadata": {},
   "source": [
    "**Step 1** Assembling Predictors, Target and train_test_split"
   ]
  },
  {
   "cell_type": "code",
   "execution_count": 280,
   "id": "4f309b08",
   "metadata": {},
   "outputs": [],
   "source": [
    "X = df.drop(columns=['subreddit'])\n",
    "y = df['subreddit']\n",
    "\n",
    "X_train, X_test, y_train, y_test = train_test_split(X,\n",
    "                                                    y,\n",
    "                                                    stratify=y,\n",
    "                                                    random_state=42)\n"
   ]
  },
  {
   "cell_type": "markdown",
   "id": "0b3cc07a",
   "metadata": {},
   "source": [
    "**Step 2** Transforming predictors; instantiating two  separate Pipelines "
   ]
  },
  {
   "cell_type": "code",
   "execution_count": 281,
   "id": "36e30e01",
   "metadata": {},
   "outputs": [],
   "source": [
    "# all functions below and everything related to feature union comes from Professor Riley Dallas"
   ]
  },
  {
   "cell_type": "code",
   "execution_count": 282,
   "id": "f8b1efa0",
   "metadata": {},
   "outputs": [],
   "source": [
    "def get_title(df):\n",
    "    return df['title_selftext']\n",
    "get_title_transformer = FunctionTransformer(get_title, validate=False)\n",
    "\n",
    "def get_other_col(df):\n",
    "    return df[['sentiment_score']]\n",
    "get_col_transformer = FunctionTransformer(get_other_col, validate=False)"
   ]
  },
  {
   "cell_type": "code",
   "execution_count": 283,
   "id": "16a09f7c",
   "metadata": {},
   "outputs": [],
   "source": [
    "pipe_cv = Pipeline([\n",
    "    ('title_transform', get_title_transformer),\n",
    "    ('vect', CountVectorizer())\n",
    "])\n"
   ]
  },
  {
   "cell_type": "code",
   "execution_count": 284,
   "id": "e6d2787c",
   "metadata": {},
   "outputs": [],
   "source": [
    "pipe_model = Pipeline([\n",
    "    ('feats', FeatureUnion([\n",
    "        ('vect_pipe', pipe_cv),\n",
    "        ('other_cols', get_col_transformer)\n",
    "    ])),\n",
    "    ('lr', LogisticRegression(max_iter=1000))\n",
    "])"
   ]
  },
  {
   "cell_type": "markdown",
   "id": "abd5fd99",
   "metadata": {},
   "source": [
    "**Step 3** Instantiate and Fitting RandomizedSearchCV"
   ]
  },
  {
   "cell_type": "code",
   "execution_count": 285,
   "id": "b2f509fc",
   "metadata": {},
   "outputs": [
    {
     "name": "stdout",
     "output_type": "stream",
     "text": [
      "['feats',\n",
      " 'feats__n_jobs',\n",
      " 'feats__other_cols',\n",
      " 'feats__other_cols__accept_sparse',\n",
      " 'feats__other_cols__check_inverse',\n",
      " 'feats__other_cols__func',\n",
      " 'feats__other_cols__inv_kw_args',\n",
      " 'feats__other_cols__inverse_func',\n",
      " 'feats__other_cols__kw_args',\n",
      " 'feats__other_cols__validate',\n",
      " 'feats__transformer_list',\n",
      " 'feats__transformer_weights',\n",
      " 'feats__vect_pipe',\n",
      " 'feats__vect_pipe__memory',\n",
      " 'feats__vect_pipe__steps',\n",
      " 'feats__vect_pipe__title_transform',\n",
      " 'feats__vect_pipe__title_transform__accept_sparse',\n",
      " 'feats__vect_pipe__title_transform__check_inverse',\n",
      " 'feats__vect_pipe__title_transform__func',\n",
      " 'feats__vect_pipe__title_transform__inv_kw_args',\n",
      " 'feats__vect_pipe__title_transform__inverse_func',\n",
      " 'feats__vect_pipe__title_transform__kw_args',\n",
      " 'feats__vect_pipe__title_transform__validate',\n",
      " 'feats__vect_pipe__vect',\n",
      " 'feats__vect_pipe__vect__analyzer',\n",
      " 'feats__vect_pipe__vect__binary',\n",
      " 'feats__vect_pipe__vect__decode_error',\n",
      " 'feats__vect_pipe__vect__dtype',\n",
      " 'feats__vect_pipe__vect__encoding',\n",
      " 'feats__vect_pipe__vect__input',\n",
      " 'feats__vect_pipe__vect__lowercase',\n",
      " 'feats__vect_pipe__vect__max_df',\n",
      " 'feats__vect_pipe__vect__max_features',\n",
      " 'feats__vect_pipe__vect__min_df',\n",
      " 'feats__vect_pipe__vect__ngram_range',\n",
      " 'feats__vect_pipe__vect__preprocessor',\n",
      " 'feats__vect_pipe__vect__stop_words',\n",
      " 'feats__vect_pipe__vect__strip_accents',\n",
      " 'feats__vect_pipe__vect__token_pattern',\n",
      " 'feats__vect_pipe__vect__tokenizer',\n",
      " 'feats__vect_pipe__vect__vocabulary',\n",
      " 'feats__vect_pipe__verbose',\n",
      " 'feats__verbose',\n",
      " 'lr',\n",
      " 'lr__C',\n",
      " 'lr__class_weight',\n",
      " 'lr__dual',\n",
      " 'lr__fit_intercept',\n",
      " 'lr__intercept_scaling',\n",
      " 'lr__l1_ratio',\n",
      " 'lr__max_iter',\n",
      " 'lr__multi_class',\n",
      " 'lr__n_jobs',\n",
      " 'lr__penalty',\n",
      " 'lr__random_state',\n",
      " 'lr__solver',\n",
      " 'lr__tol',\n",
      " 'lr__verbose',\n",
      " 'lr__warm_start',\n",
      " 'memory',\n",
      " 'steps',\n",
      " 'verbose']\n"
     ]
    }
   ],
   "source": [
    "#checking at how should I call pipes's parameters\n",
    "pp.pprint(sorted(pipe_model.get_params().keys()))"
   ]
  },
  {
   "cell_type": "code",
   "execution_count": 286,
   "id": "85a39406",
   "metadata": {},
   "outputs": [
    {
     "data": {
      "text/plain": [
       "RandomizedSearchCV(estimator=Pipeline(steps=[('feats',\n",
       "                                              FeatureUnion(transformer_list=[('vect_pipe',\n",
       "                                                                              Pipeline(steps=[('title_transform',\n",
       "                                                                                               FunctionTransformer(func=<function get_title at 0x7f9f75fcc5e0>)),\n",
       "                                                                                              ('vect',\n",
       "                                                                                               CountVectorizer())])),\n",
       "                                                                             ('other_cols',\n",
       "                                                                              FunctionTransformer(func=<function get_other_col at 0x7f9f75fcc670>))])),\n",
       "                                             ('lr',\n",
       "                                              LogisticRegression(max_iter=1000))...\n",
       "                                        'feats__vect_pipe__vect__stop_words': [['made',\n",
       "                                                                                'each',\n",
       "                                                                                'are',\n",
       "                                                                                'over',\n",
       "                                                                                'elsewhere',\n",
       "                                                                                'nothing',\n",
       "                                                                                'whereby',\n",
       "                                                                                'its',\n",
       "                                                                                'together',\n",
       "                                                                                'whither',\n",
       "                                                                                'among',\n",
       "                                                                                'part',\n",
       "                                                                                'toward',\n",
       "                                                                                'already',\n",
       "                                                                                'less',\n",
       "                                                                                'whether',\n",
       "                                                                                'am',\n",
       "                                                                                'seem',\n",
       "                                                                                'then',\n",
       "                                                                                'therefore',\n",
       "                                                                                'couldnt',\n",
       "                                                                                'onto',\n",
       "                                                                                'who',\n",
       "                                                                                'when',\n",
       "                                                                                'everywhere',\n",
       "                                                                                'while',\n",
       "                                                                                'interest',\n",
       "                                                                                'such',\n",
       "                                                                                'show',\n",
       "                                                                                'eg', ...]],\n",
       "                                        'lr__C': [0.05, 0.1, 0.5, 1]},\n",
       "                   random_state=430, scoring='accuracy')"
      ]
     },
     "execution_count": 286,
     "metadata": {},
     "output_type": "execute_result"
    }
   ],
   "source": [
    "#Here I am proposing the same parameters I selected for my first model\n",
    "params_2 = {\n",
    "    'feats__vect_pipe__vect__stop_words':[stop_words],\n",
    "    'feats__vect_pipe__vect__min_df': list(range(1,10)),\n",
    "    'feats__vect_pipe__vect__max_df': [1.0, .75, .5, 0.25],\n",
    "    'feats__vect_pipe__vect__binary': [True, False],\n",
    "    'feats__vect_pipe__vect__ngram_range': [(2, 2), (1,1), (1,2)], \n",
    "    'feats__vect_pipe__vect__max_features': [500, 1_000, 2_000], \n",
    "    'lr__C':[0.05, 0.1, 0.5,1]}\n",
    "\n",
    "rs_2 = RandomizedSearchCV(pipe_model, params_2, scoring='accuracy',n_iter=10, random_state=430)\n",
    "rs_2.fit(X_train, y_train)"
   ]
  },
  {
   "cell_type": "code",
   "execution_count": 287,
   "id": "ccfd3490",
   "metadata": {},
   "outputs": [
    {
     "name": "stdout",
     "output_type": "stream",
     "text": [
      "0.820635807617459\n",
      "{'lr__C': 0.1, 'feats__vect_pipe__vect__stop_words': ['made', 'each', 'are', 'over', 'elsewhere', 'nothing', 'whereby', 'its', 'together', 'whither', 'among', 'part', 'toward', 'already', 'less', 'whether', 'am', 'seem', 'then', 'therefore', 'couldnt', 'onto', 'who', 'when', 'everywhere', 'while', 'interest', 'such', 'show', 'eg', 'will', 'next', 'many', 'whose', 'hereupon', 'found', 'but', 'beside', 'perhaps', 'whereas', 'so', 'upon', 'became', 'after', 'call', 'hereby', 'six', 'thus', 'ever', 'throughout', 'seeming', 'through', 'for', 'have', 'down', 'least', 'an', 'thru', 'most', 'our', 'be', 'into', 'etc', 'several', 'above', 'below', 'find', 'myself', 'co', 'whereafter', 'it', 'under', 'a', 'this', 'indeed', 'more', 'beyond', 'or', 'must', 'me', 'back', 'across', 'themselves', 'sincere', 'own', 'except', 'well', 'wherever', 'he', 'at', 'top', 'now', 'nine', 'thick', 'once', 'give', 'un', 'never', 'first', 'their', 'fifteen', 'often', 'nevertheless', 'whoever', 'seemed', 'something', 'two', 'ltd', 'us', 'almost', 'them', 'though', 'out', 'not', 'off', 'somewhere', 'his', 'towards', 'with', 'has', 'sometime', 'is', 'serious', 'none', 'become', 'itself', 'thereby', 'ten', 'detail', 'although', 'ours', 'side', 'mine', 'everything', 'only', 'were', 'former', 'also', 'neither', 'seems', 'some', 'him', 'would', 'until', 'bill', 'move', 'others', 'eight', 'take', 'nowhere', 'namely', 'three', 'whenever', 'of', 'before', 'on', 'otherwise', 'ie', 'very', 'anyone', 'yours', 'sixty', 'get', 'hence', 'per', 'yet', 'thereafter', 'what', 'put', 'another', 'all', 'where', 'up', 'beforehand', 'around', 're', 'can', 'alone', 'fill', 'everyone', 'de', 'the', 'afterwards', 'empty', 'con', 'hereafter', 'much', 'we', 'four', 'by', 'cant', 'describe', 'sometimes', 'latterly', 'somehow', 'becomes', 'both', 'hundred', 'there', 'rather', 'further', 'formerly', 'wherein', 'bottom', 'herein', 'whereupon', 'enough', 'thence', 'could', 'whom', 'my', 'other', 'from', 'inc', 'mostly', 'mill', 'hasnt', 'few', 'himself', 'cry', 'during', 'keep', 'every', 'should', 'amongst', 'name', 'if', 'anywhere', 'eleven', 'amoungst', 'whole', 'as', 'and', 'hers', 'even', 'than', 'because', 'was', 'whatever', 'behind', 'to', 'thereupon', 'these', 'had', 'anyhow', 'one', 'about', 'someone', 'please', 'she', 'along', 'either', 'noone', 'ourselves', 'therein', 'same', 'see', 'amount', 'five', 'that', 'they', 'might', 'why', 'yourselves', 'forty', 'how', 'without', 'go', 'nobody', 'full', 'against', 'within', 'between', 'moreover', 'last', 'do', 'latter', 'since', 'twelve', 'again', 'becoming', 'in', 'system', 'her', 'which', 'anything', 'nor', 'cannot', 'thin', 'no', 'you', 'fifty', 'those', 'too', 'third', 'meanwhile', 'your', 'always', 'due', 'still', 'else', 'being', 'front', 'may', 'however', 'i', 'herself', 'via', 'any', 'anyway', 'fire', 'whence', 'twenty', 'yourself', 'been', 'besides', 'done', 'here', 'help', 'com', 'have', 've', 'does', 'know', 'don', 'want', 'website', 'row', 'let', 'hey', 'guys', 'like', 'hey', 'place', 'http', 'www', 'bytes', 'think', \"don't\", \"doesn't\", 'does', 'just', 'people', 'use', \"i've\", 'hi', 'need', 'doesn'], 'feats__vect_pipe__vect__ngram_range': (1, 1), 'feats__vect_pipe__vect__min_df': 9, 'feats__vect_pipe__vect__max_features': 2000, 'feats__vect_pipe__vect__max_df': 0.5, 'feats__vect_pipe__vect__binary': False}\n"
     ]
    }
   ],
   "source": [
    "print(rs_2.best_score_)\n",
    "print(rs_2.best_params_)"
   ]
  },
  {
   "cell_type": "markdown",
   "id": "51a087c9",
   "metadata": {},
   "source": [
    "**Step 4** Model Evaluation"
   ]
  },
  {
   "cell_type": "code",
   "execution_count": 288,
   "id": "a9fa824a",
   "metadata": {},
   "outputs": [
    {
     "data": {
      "text/plain": [
       "<sklearn.metrics._plot.confusion_matrix.ConfusionMatrixDisplay at 0x7f9f721bdb20>"
      ]
     },
     "execution_count": 288,
     "metadata": {},
     "output_type": "execute_result"
    },
    {
     "data": {
      "image/png": "[encoded data removed]",
      "text/plain": [
       "<Figure size 432x288 with 2 Axes>"
      ]
     },
     "metadata": {
      "needs_background": "light"
     },
     "output_type": "display_data"
    }
   ],
   "source": [
    "# I want to first take a look at my confusion matrix\n",
    "plot_confusion_matrix(rs_2, X_test, y_test, display_labels=['sustainability', 'climatechange'], \n",
    "                      cmap='Blues')"
   ]
  },
  {
   "cell_type": "code",
   "execution_count": 289,
   "id": "2c5f73b2",
   "metadata": {},
   "outputs": [
    {
     "data": {
      "text/plain": [
       "(0.8381618381618382, 0.8038038038038038, 0.821, 0.8106280193236715)"
      ]
     },
     "execution_count": 289,
     "metadata": {},
     "output_type": "execute_result"
    }
   ],
   "source": [
    "#looking at the predictions\n",
    "preds = rs_2.predict(X_test)\n",
    "#identifying values of my confusion matrix \n",
    "tn, fp, fn, tp = metrics.confusion_matrix(y_test, preds).ravel()\n",
    "# calculating sensitivity, specificity and overall accuracy\n",
    "sensitivity_2 = tp/(tp+fn)\n",
    "specificity_2 = tn/(tn+fp)\n",
    "accuracy_2 = (tp+tn)/(tp+tn+fn+fp)\n",
    "precision_2 = (tp)/(tp+fp)\n",
    "#printing results\n",
    "sensitivity_2, specificity_2, accuracy_2, precision_2"
   ]
  },
  {
   "cell_type": "code",
   "execution_count": 290,
   "id": "721076b3",
   "metadata": {},
   "outputs": [
    {
     "data": {
      "text/plain": [
       "0.9054659054659056"
      ]
     },
     "execution_count": 290,
     "metadata": {},
     "output_type": "execute_result"
    }
   ],
   "source": [
    "#calculating ROC AUC Score\n",
    "probs = rs_2.predict_proba(X_test)[:,1]\n",
    "metrics.roc_auc_score(y_test, probs)"
   ]
  },
  {
   "cell_type": "code",
   "execution_count": 291,
   "id": "b511d092",
   "metadata": {},
   "outputs": [
    {
     "data": {
      "text/plain": [
       "<matplotlib.legend.Legend at 0x7f9f760a80a0>"
      ]
     },
     "execution_count": 291,
     "metadata": {},
     "output_type": "execute_result"
    },
    {
     "data": {
      "image/png": "[encoded data removed]",
      "text/plain": [
       "<Figure size 432x288 with 1 Axes>"
      ]
     },
     "metadata": {
      "needs_background": "light"
     },
     "output_type": "display_data"
    }
   ],
   "source": [
    "# Source: this graph is coming from class classsification metrics II\n",
    "# I want to visualize teh false positive rate against the true positive rate\n",
    "metrics.plot_roc_curve(rs_2, X_test, y_test)\n",
    "plt.plot([0,1], [0,1], color ='orange', label ='Baseline')\n",
    "plt.legend()"
   ]
  },
  {
   "cell_type": "code",
   "execution_count": 292,
   "id": "da944d30",
   "metadata": {},
   "outputs": [
    {
     "name": "stderr",
     "output_type": "stream",
     "text": [
      "/Users/filoradice/opt/anaconda3/lib/python3.9/site-packages/seaborn/distributions.py:2619: FutureWarning: `distplot` is a deprecated function and will be removed in a future version. Please adapt your code to use either `displot` (a figure-level function with similar flexibility) or `histplot` (an axes-level function for histograms).\n",
      "  warnings.warn(msg, FutureWarning)\n"
     ]
    },
    {
     "data": {
      "image/png": "[encoded data removed]",
      "text/plain": [
       "<Figure size 864x360 with 1 Axes>"
      ]
     },
     "metadata": {
      "needs_background": "light"
     },
     "output_type": "display_data"
    }
   ],
   "source": [
    "# Source: this graph is coming from class classification metrics II\n",
    "df_probs = pd.DataFrame({'true_values': y_test, 'preds_prob':probs})\n",
    "plt.figure(figsize = (12, 5))\n",
    "\n",
    "# plot distributions of predicted probabilities by actual values\n",
    "for group in df_probs.groupby('true_values'):\n",
    "    sns.distplot(group[1], kde = False, bins = 20, label = f'Actual Outcome = {group[0]}')\n",
    "# Add cutoff line\n",
    "plt.axvline(.5, color='r')\n",
    "\n",
    "plt.xlabel('Predicted Probability that Outcome = 1')\n",
    "plt.legend();"
   ]
  },
  {
   "cell_type": "markdown",
   "id": "c513bd7f",
   "metadata": {},
   "source": [
    "**Step 5** looking at the best predictors "
   ]
  },
  {
   "cell_type": "code",
   "execution_count": 293,
   "id": "e642f379",
   "metadata": {},
   "outputs": [],
   "source": [
    "#below I am proposing a bit more of EDA on best features predictors for both climate change and sustainability "
   ]
  },
  {
   "cell_type": "code",
   "execution_count": 294,
   "id": "2528aa31",
   "metadata": {},
   "outputs": [],
   "source": [
    "#Source of code: group effort led by Andy Orfalea\n",
    "coef = rs_2.best_estimator_.named_steps['lr'].coef_ # get coefficients\n",
    "features = rs_2.best_estimator_.named_steps['feats'].transformer_list[0][1].named_steps['vect'].get_feature_names() #get feature names\n",
    "everything = zip(coef[0], features) #zip them together\n",
    "lst = list(everything) #turn zip object into a list\n",
    "predictors_sent = pd.DataFrame(lst) # turn list into a df\n",
    "predictors_sent[0] = np.exp(predictors_sent[0]) # because logistic regression puts the coefficients on a log scale, you have to do this."
   ]
  },
  {
   "cell_type": "code",
   "execution_count": 295,
   "id": "c6cf279b",
   "metadata": {},
   "outputs": [
    {
     "data": {
      "image/png": "[encoded data removed]",
      "text/plain": [
       "<Figure size 864x432 with 1 Axes>"
      ]
     },
     "metadata": {
      "needs_background": "light"
     },
     "output_type": "display_data"
    }
   ],
   "source": [
    "plt.figure(figsize=(12,6))\n",
    "#best_pred_sust = predictors_sent.sort_values(by=0, ascending=False).head(10)\n",
    "best_pred_sust = predictors_sent.sort_values(by=0, ascending=True).tail(10)\n",
    "x = best_pred_sust[1]\n",
    "y = best_pred_sust[0]\n",
    "plt.barh(x,y, color ='darkcyan',  height=0.90)\n",
    "plt.xlabel('Coefficient Value', fontdict= {'fontsize':14})\n",
    "plt.title('Best Predictors For Sustainability', fontdict = {'fontsize':16})\n",
    "ax = plt.subplot()\n",
    "ax.set_yticks(x)\n",
    "ax.set_yticklabels(x, fontdict= {'fontsize':14} )\n",
    "plt.tight_layout();\n",
    "plt.savefig(('../images/bestpredictors_sustain.png'), bbox_inches=\"tight\", dpi=100)"
   ]
  },
  {
   "cell_type": "code",
   "execution_count": 296,
   "id": "5cc1e6cd",
   "metadata": {},
   "outputs": [
    {
     "data": {
      "image/png": "[encoded data removed]",
      "text/plain": [
       "<Figure size 864x432 with 1 Axes>"
      ]
     },
     "metadata": {
      "needs_background": "light"
     },
     "output_type": "display_data"
    }
   ],
   "source": [
    "plt.figure(figsize=(12,6))\n",
    "#best_pred_cc = predictors_sent.sort_values(by=0, ascending=False).tail(10)\n",
    "best_pred_cc = predictors_sent.sort_values(by=0, ascending=True).head(10)\n",
    "x = best_pred_cc[1]\n",
    "y = best_pred_cc[0]\n",
    "plt.barh(x,y, color ='midnightblue',  height=0.90)\n",
    "plt.xlabel('Coefficient Value', fontdict= {'fontsize':14})\n",
    "plt.title('Best Predictors For Climate Change', fontdict = {'fontsize':16})\n",
    "ax = plt.subplot()\n",
    "ax.set_yticks(x)\n",
    "ax.set_yticklabels(x, fontdict= {'fontsize':14} )\n",
    "plt.tight_layout();\n",
    "plt.savefig(('../images/bestpredictors_climatechange.png'),  bbox_inches=\"tight\", dpi=100)"
   ]
  },
  {
   "cell_type": "markdown",
   "id": "94550b20",
   "metadata": {},
   "source": [
    "### Conclusions"
   ]
  },
  {
   "cell_type": "markdown",
   "id": "55b3ab93",
   "metadata": {},
   "source": [
    "By looking at all different metrics, we can conclude that both models are making better predictions than the null model. Moreover, the sentiment analysis adds value to the prediction of the logistic model classifier. Meaning that, the difference in the sentiment score across the different subreddits improves model predictions. For instance, the best accuracy score for the model with sentiment analysis is .821 against .815 for the one without. Moreover, in part 3, we have seen how the word **anxiety** is within the 10 best  predictors for the class climate change. This seems to confirm the original hypothesis where I was expecting to detect a more positive sentiment in the sustainability group as people tend to be  more focus on the solution side of the environemntal crisis. \n",
    "\n",
    "Below, a summary of the different other scores computed before\n",
    "\n",
    "Logistic Regression Scores **without** Sentiment Analysis: \n",
    "1. sensitivity 0.844 \n",
    "2. specificity 0.788\n",
    "3. accuracy 0.815\n",
    "4. precision 0.799\n",
    "\n",
    "\n",
    "Logistic Regression Scores **with** Sentiment Analysis:  \n",
    "1. sensitivity 0.838 \n",
    "2. specificity 0.804\n",
    "3. accuracy 0.821 \n",
    "4. precision 0.810\n",
    "\n"
   ]
  },
  {
   "cell_type": "code",
   "execution_count": 297,
   "id": "5725bfaa",
   "metadata": {},
   "outputs": [],
   "source": [
    "#accuracy score comparison between the null model, logistic regression with/without sentiment analysis"
   ]
  },
  {
   "cell_type": "code",
   "execution_count": 298,
   "id": "71af767b",
   "metadata": {},
   "outputs": [
    {
     "data": {
      "text/plain": [
       "1                      0.500438\n",
       "Logistic Regression    0.815500\n",
       "Sentiment Analysis     0.821000\n",
       "Name: subreddit, dtype: float64"
      ]
     },
     "execution_count": 298,
     "metadata": {},
     "output_type": "execute_result"
    }
   ],
   "source": [
    "null_model['Logistic Regression'] = accuracy_1\n",
    "null_model['Sentiment Analysis'] = accuracy_2\n",
    "null_model.drop(0, inplace=True)\n",
    "#check\n",
    "null_model"
   ]
  },
  {
   "cell_type": "code",
   "execution_count": 299,
   "id": "f2e90ae7",
   "metadata": {},
   "outputs": [
    {
     "data": {
      "image/png": "[encoded data removed]",
      "text/plain": [
       "<Figure size 864x432 with 1 Axes>"
      ]
     },
     "metadata": {
      "needs_background": "light"
     },
     "output_type": "display_data"
    }
   ],
   "source": [
    "plt.figure(figsize=(12,6))\n",
    "x = range(len(null_model.reset_index()))\n",
    "y = null_model.reset_index().loc[:,'subreddit']\n",
    "plt.bar(x,y, color='lightblue')\n",
    "ax = plt.subplot()\n",
    "ax.set_xticks(x)\n",
    "ax.set_xticklabels(['Null Model', 'Logistic Regression', 'Sentiment Analysis'], fontdict= {'fontsize':14})\n",
    "#ax.set_xlabel('Models', fontdict= {'fontsize':14})\n",
    "ax.set_ylabel('Accuracy', fontdict= {'fontsize':14})\n",
    "ax.set_title('Comparison Between Models Accuracy ', fontdict = {'fontsize':16})\n",
    "plt.tight_layout();\n",
    "plt.savefig(('../images/models_comparison.png'),  bbox_inches=\"tight\", dpi=100)"
   ]
  },
  {
   "cell_type": "code",
   "execution_count": null,
   "id": "dc5de2c5",
   "metadata": {},
   "outputs": [],
   "source": [
    " "
   ]
  }
 ],
 "metadata": {
  "kernelspec": {
   "display_name": "Python 3 (ipykernel)",
   "language": "python",
   "name": "python3"
  },
  "language_info": {
   "codemirror_mode": {
    "name": "ipython",
    "version": 3
   },
   "file_extension": ".py",
   "mimetype": "text/x-python",
   "name": "python",
   "nbconvert_exporter": "python",
   "pygments_lexer": "ipython3",
   "version": "3.9.7"
  }
 },
 "nbformat": 4,
 "nbformat_minor": 5
}
