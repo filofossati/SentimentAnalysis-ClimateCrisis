{
 "cells": [
  {
   "attachments": {},
   "cell_type": "markdown",
   "id": "fbd3b3f6",
   "metadata": {},
   "source": [
    "# A Sentiment Analysis on Environmentalism"
   ]
  },
  {
   "cell_type": "markdown",
   "id": "74e00681",
   "metadata": {},
   "source": [
    "### Problem Statement"
   ]
  },
  {
   "cell_type": "markdown",
   "id": "88b08338",
   "metadata": {},
   "source": [
    "Extreme weather events such as wildfires and hurricanes have been already intensifying at a pace that scientists did not predict. The Intergovernmental Panel of Climate Change (IPCC) in its 2021 [climate science report](https://www.ipcc.ch/report/ar6/wg1/) clearly articulates that: 1)it is virtually likely that human activities are the main cause of global warming and thus the exacerbation of extreme weather events; 2) the world is getting closer to irreversible tipping points and thus heading in a world that goes beyond 1.5 degree of warming. \n",
    "\n",
    "It is interesting to notice how the perception of this climate crisis has changed in the majority of the world population in recent years. In fact, recent studies suggest that the younger generation has been developing a climate anxiety about their future. For instance, on September 2021, [Nature](https://www.nature.com/articles/d41586-021-02582-8) published a survey of 10,000 young people showing that \"negative feelings about climate change can cause psycological distress\". 27% and 32 % of interviewees were respectively extremely worried and very worried about climate change. Only 5% were not worried. The most common words utilized in the same survey were said, afraid, anxious, angry, powerless, guilty, optimistic and indifferent."
   ]
  },
  {
   "cell_type": "markdown",
   "id": "3a1e6a42",
   "metadata": {},
   "source": [
    "An American non-profit organization wanted to have  a better picture of the general sentiment that people have when talking about environmental-related topics. More specifically, they wanted to understand whether by talking about climate change in a more broaden context such as sustainability, the overall sentiment could become more propositional and less catastrophic. \n",
    "Serving as a data scientist in this organization, I decided to apply a Sentiment Analysis - an area of natural language processing that classifies text as having either positive or negative emotion - over two different subreddits: sustainability and climatechange. Because the sustainability subreddit is more focus on the solution side of the environmental crisis, the hypothesis is that its overall sentiment score should be more positive than the one for climate change; and I am expecting that this difference should improve model's predictions."
   ]
  },
  {
   "cell_type": "markdown",
   "id": "fdcd60bf",
   "metadata": {},
   "source": [
    "### Project Structure"
   ]
  },
  {
   "cell_type": "markdown",
   "id": "1affb953",
   "metadata": {},
   "source": [
    "This Project is Structured in five different parts:\n",
    "\n",
    "1. Part 1: Data Import - I am importing approximately 19000 posts from the reddit website and creating a new dataframe that is imported in part 2\n",
    "2. Part 2: Data Cleaning and EDA - this section is dedicated to data cleaning and data visualization. the outcome of this section is a cleaned dataframe that is analyzed by both a Logistic Regression and Random Forest Classifier in part 3 and part 4 respectively. \n",
    "3. Part 3: Logistic Regression Classifier - In this section I am analyzing the posts through a logistic regression models with and without the compound sentiment score. \n",
    "4. Part 4: Random Forest Classifier- In this section I am analyzing the posts  through a random forest models with and without the compound sentiment score. \n",
    "5. Part 5: Conclusion -  I am discussing the findings and making final considerations"
   ]
  },
  {
   "cell_type": "code",
   "execution_count": null,
   "id": "78c4f976",
   "metadata": {},
   "outputs": [],
   "source": []
  }
 ],
 "metadata": {
  "kernelspec": {
   "display_name": "Python 3 (ipykernel)",
   "language": "python",
   "name": "python3"
  },
  "language_info": {
   "codemirror_mode": {
    "name": "ipython",
    "version": 3
   },
   "file_extension": ".py",
   "mimetype": "text/x-python",
   "name": "python",
   "nbconvert_exporter": "python",
   "pygments_lexer": "ipython3",
   "version": "3.9.7"
  }
 },
 "nbformat": 4,
 "nbformat_minor": 5
}
